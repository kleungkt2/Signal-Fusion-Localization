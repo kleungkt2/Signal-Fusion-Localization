{
 "cells": [
  {
   "cell_type": "code",
   "execution_count": 1,
   "metadata": {},
   "outputs": [],
   "source": [
    "#imports, initialization\n",
    "import os\n",
    "import sys\n",
    "sys.path.append(os.path.abspath(os.path.join('..')))\n",
    "from sites.config import *\n",
    "from model.wifi import WifiNetwork, WiFiPreprocessor\n",
    "from model.inout import InOutClassifier\n",
    "from util.general_util import *\n",
    "from util.data_util import read_wifi_fingerprint, compute_reference_features\n",
    "\n",
    "import tensorflow as tf\n",
    "from PIL import Image, ImageDraw\n",
    "import glob\n",
    "import numpy as np\n",
    "import pandas as pd\n",
    "import pickle\n",
    "\n",
    "os.environ['TF_CPP_MIN_LOG_LEVEL'] = '3'\n",
    "\n",
    "\n",
    "test = len(sys.argv) > 1 and sys.argv[1] == '--test'\n",
    "\n",
    "physical_devices = tf.config.experimental.list_physical_devices('GPU')\n",
    "if physical_devices:\n",
    "    tf.config.experimental.set_memory_growth(physical_devices[0], True)\n",
    "\n",
    "site = LTA()\n",
    "site_name = site.name\n",
    "constraints1 = site.constraints1\n",
    "constraints2 = site.constraints2\n",
    "#map_path = site.map_path\n",
    "map_path = \"../map/HKUST/HKUSTMap1F.jpg\"\n",
    "log_dir = \"../data/log/\"\n",
    "'''\n",
    "dataset_dir = site.dataset_dir\n",
    "log_dir = os.path.join(site.log_dir, 'wifi')\n",
    "if not os.path.isdir(site.log_dir):\n",
    "    os.mkdir(site.log_dir)\n",
    "if not os.path.isdir(log_dir):\n",
    "    os.mkdir(log_dir)\n",
    "'''\n",
    "dataset_dir = \"../data/HKUST_1F_Path2/\"\n",
    "dataset_dir2 = \"../data/HKUST_1F_Path2_2/\"\n",
    "gridsize = site.gridsize\n",
    "batch_size = 1024\n",
    "n_epochs = 500\n",
    "n_layers = 2\n",
    "d = 32\n"
   ]
  },
  {
   "cell_type": "code",
   "execution_count": null,
   "metadata": {},
   "outputs": [],
   "source": []
  }
 ],
 "metadata": {
  "kernelspec": {
   "display_name": "Python 3",
   "language": "python",
   "name": "python3"
  },
  "language_info": {
   "codemirror_mode": {
    "name": "ipython",
    "version": 3
   },
   "file_extension": ".py",
   "mimetype": "text/x-python",
   "name": "python",
   "nbconvert_exporter": "python",
   "pygments_lexer": "ipython3",
   "version": "3.8.5"
  }
 },
 "nbformat": 4,
 "nbformat_minor": 4
}
