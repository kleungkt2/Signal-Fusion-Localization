{
 "cells": [
  {
   "cell_type": "code",
   "execution_count": 47,
   "metadata": {},
   "outputs": [],
   "source": [
    "%reload_ext autoreload\n",
    "%autoreload 2\n",
    "\n",
    "\n",
    "import matplotlib.pyplot as plt\n",
    "import os\n",
    "import sys\n",
    "sys.path.append(os.path.abspath(os.path.join('..')))\n",
    "\n",
    "from util.fusion_util import *\n",
    "from util.data_util import *\n",
    "from util.general_util import *\n",
    "from sites.config import *\n",
    "from model.pdr import PDR\n",
    "from model.bayes_filter import *"
   ]
  },
  {
   "cell_type": "code",
   "execution_count": 48,
   "metadata": {},
   "outputs": [],
   "source": [
    "physical_devices = tf.config.experimental.list_physical_devices('GPU')\n",
    "if physical_devices:\n",
    "    tf.config.experimental.set_memory_growth(physical_devices[0], True)\n",
    "\n",
    "np.set_printoptions(threshold=10)"
   ]
  },
  {
   "cell_type": "code",
   "execution_count": 49,
   "metadata": {},
   "outputs": [],
   "source": [
    "site = MtrCtl()\n",
    "site_name = site.name\n",
    "constraints1 = site.constraints1\n",
    "constraints2 = site.constraints2\n",
    "map_path = os.path.join('..', site.map_path)\n",
    "dataset_dir = os.path.join('..', site.dataset_dir)\n",
    "log_dir = os.path.join('..', site.log_dir, 'ble')"
   ]
  },
  {
   "cell_type": "code",
   "execution_count": 50,
   "metadata": {},
   "outputs": [],
   "source": [
    "gridsize = site.gridsize\n",
    "window_size = 7000\n",
    "batch_size = 1024\n",
    "n_epochs = 500\n",
    "n_layers = 1\n",
    "d = 8"
   ]
  },
  {
   "cell_type": "code",
   "execution_count": 56,
   "metadata": {},
   "outputs": [
    {
     "name": "stdout",
     "output_type": "stream",
     "text": [
      "(783, 153) (169, 153)\n"
     ]
    }
   ],
   "source": [
    "rp_locs = generate_line_grid(constraints1, gridsize) + generate_filled_grid(constraints2, gridsize)\n",
    "fp_features, fp_locs, beacon_list1 = read_ble_fingerprint(glob.glob(os.path.join(dataset_dir, 'm*_Ble.txt')), window_size=window_size)\n",
    "test_features, test_locs, beacon_list2 = read_ble_fingerprint(glob.glob(os.path.join(dataset_dir, 'n*_Ble.txt')), window_size=window_size)\n",
    "\n",
    "with open(os.path.join(log_dir, 'preprocessor'), 'rb') as f:\n",
    "    preprocessor = pickle.load(f)\n",
    "\n",
    "fp_features = preprocessor.preprocess(fp_features, beacon_list1).astype(np.float32)\n",
    "test_features = preprocessor.preprocess(test_features, beacon_list2).astype(np.float32)\n",
    "fp_features = fp_features[np.sum(fp_features, axis=1) != 0]\n",
    "test_features = test_features[np.sum(test_features, axis=1) != 0]\n",
    "print(fp_features.shape, test_features.shape)\n",
    "\n",
    "rp_features = compute_reference_features(rp_locs, fp_features, fp_locs, gridsize, p=10).astype(np.float32)"
   ]
  },
  {
   "cell_type": "code",
   "execution_count": 57,
   "metadata": {},
   "outputs": [
    {
     "name": "stdout",
     "output_type": "stream",
     "text": [
      "[0.0000000e+00 1.2219312e-03 1.5330410e-03 ... 1.3004799e-03 3.7141039e-05\n",
      " 1.1165949e-02] [0. 0. 0. ... 0. 0. 0.]\n"
     ]
    }
   ],
   "source": [
    "j = 60\n",
    "i = get_closest_grid(fp_locs[j], rp_locs)\n",
    "print(rp_features[i], fp_features[j])"
   ]
  },
  {
   "cell_type": "code",
   "execution_count": 58,
   "metadata": {},
   "outputs": [],
   "source": [
    "iii = np.nonzero(fp_features[j])[0]"
   ]
  },
  {
   "cell_type": "code",
   "execution_count": 67,
   "metadata": {},
   "outputs": [
    {
     "data": {
      "text/plain": [
       "array([0.76739246, 0.76739246, 0.76739246, ..., 0.87807107, 0.76841736,\n",
       "       0.7785202 ], dtype=float32)"
      ]
     },
     "execution_count": 67,
     "metadata": {},
     "output_type": "execute_result"
    }
   ],
   "source": [
    "np.exp(-np.linalg.norm(rp_features[:,iii] - fp_features[j][iii], axis=1)**2 / 0.5)"
   ]
  },
  {
   "cell_type": "code",
   "execution_count": 171,
   "metadata": {},
   "outputs": [
    {
     "data": {
      "text/plain": [
       "array([0.56880647, 0.56880647, 0.56880647, ..., 0.7530123 , 0.56880647,\n",
       "       0.56880647], dtype=float32)"
      ]
     },
     "execution_count": 171,
     "metadata": {},
     "output_type": "execute_result"
    }
   ],
   "source": [
    "np.mean(np.exp(-(rp_features[:,np.nonzero(fp_features[j])] - fp_features[j][np.nonzero(fp_features[j])])**2 / 1e-1), axis=2).ravel()"
   ]
  },
  {
   "cell_type": "code",
   "execution_count": 113,
   "metadata": {},
   "outputs": [],
   "source": [
    "rp_locs, ble_rpf = read_reference_points(os.path.join(log_dir, 'grid.txt'))\n",
    "ble, ble_w = load_tf_model(os.path.join(log_dir))"
   ]
  },
  {
   "cell_type": "code",
   "execution_count": 114,
   "metadata": {},
   "outputs": [
    {
     "name": "stdout",
     "output_type": "stream",
     "text": [
      "WARNING:tensorflow:6 out of the last 13 calls to <function recreate_function.<locals>.restored_function_body at 0x7ff00c23d280> triggered tf.function retracing. Tracing is expensive and the excessive number of tracings could be due to (1) creating @tf.function repeatedly in a loop, (2) passing tensors with different shapes, (3) passing Python objects instead of tensors. For (1), please define your @tf.function outside of the loop. For (2), @tf.function has experimental_relax_shapes=True option that relaxes argument shapes that can avoid unnecessary retracing. For (3), please refer to https://www.tensorflow.org/tutorials/customization/performance#python_or_tensor_args and https://www.tensorflow.org/api_docs/python/tf/function for  more details.\n"
     ]
    },
    {
     "data": {
      "text/plain": [
       "<tf.Tensor: shape=(1, 8), dtype=float32, numpy=\n",
       "array([[ 3.6857183, -2.6237242, -2.3890076, -2.9441853,  2.1938772,\n",
       "         1.7918653,  2.2456832, -2.053021 ]], dtype=float32)>"
      ]
     },
     "execution_count": 114,
     "metadata": {},
     "output_type": "execute_result"
    }
   ],
   "source": [
    "ble.predict([[0 for i in range(153)]])"
   ]
  },
  {
   "cell_type": "code",
   "execution_count": null,
   "metadata": {},
   "outputs": [],
   "source": [
    "ble.predict(ble_rpf)"
   ]
  },
  {
   "cell_type": "code",
   "execution_count": 15,
   "metadata": {},
   "outputs": [],
   "source": [
    "t = 0.1\n",
    "F = np.eye(4)\n",
    "F[0][2] = F[1][3] = t\n",
    "\n",
    "B = np.array([[0.5*t*t, 0], [0, 0.5*t*t], [t, 0], [0, t]])\n",
    "u = np.array([0.01, 0.01])"
   ]
  },
  {
   "cell_type": "code",
   "execution_count": 24,
   "metadata": {},
   "outputs": [],
   "source": [
    "kf = KalmanFilter(x=[0,0,0,0], P=np.eye(4), H=np.eye(4), )"
   ]
  },
  {
   "cell_type": "code",
   "execution_count": null,
   "metadata": {},
   "outputs": [],
   "source": [
    "loc = [1,1]\n",
    "speed = [0,0]\n",
    "\n"
   ]
  },
  {
   "cell_type": "code",
   "execution_count": 44,
   "metadata": {},
   "outputs": [],
   "source": [
    "kf._predict(F=F, B=B, u=u, Q=np.eye(4))"
   ]
  },
  {
   "cell_type": "code",
   "execution_count": 46,
   "metadata": {},
   "outputs": [],
   "source": [
    "kf._update(z=[1,2,0,0], R=np.eye(4))"
   ]
  },
  {
   "cell_type": "code",
   "execution_count": 38,
   "metadata": {},
   "outputs": [
    {
     "data": {
      "text/plain": [
       "array([9.93336933e-01, 1.98663539e+00, 1.60590980e-03, 2.60217137e-03])"
      ]
     },
     "execution_count": 38,
     "metadata": {},
     "output_type": "execute_result"
    }
   ],
   "source": [
    "kf.x"
   ]
  },
  {
   "cell_type": "code",
   "execution_count": 41,
   "metadata": {},
   "outputs": [
    {
     "data": {
      "text/plain": [
       "array([[1, 0, 0, 0],\n",
       "       [0, 1, 0, 0],\n",
       "       [0, 0, 0, 0],\n",
       "       [0, 0, 0, 0]])"
      ]
     },
     "execution_count": 41,
     "metadata": {},
     "output_type": "execute_result"
    }
   ],
   "source": []
  },
  {
   "cell_type": "code",
   "execution_count": 40,
   "metadata": {},
   "outputs": [
    {
     "data": {
      "text/plain": [
       "array([[0., 0.],\n",
       "       [0., 0.]])"
      ]
     },
     "execution_count": 40,
     "metadata": {},
     "output_type": "execute_result"
    }
   ],
   "source": []
  },
  {
   "cell_type": "code",
   "execution_count": null,
   "metadata": {},
   "outputs": [],
   "source": []
  }
 ],
 "metadata": {
  "kernelspec": {
   "display_name": "Python 3",
   "language": "python",
   "name": "python3"
  },
  "language_info": {
   "codemirror_mode": {
    "name": "ipython",
    "version": 3
   },
   "file_extension": ".py",
   "mimetype": "text/x-python",
   "name": "python",
   "nbconvert_exporter": "python",
   "pygments_lexer": "ipython3",
   "version": "3.8.5"
  }
 },
 "nbformat": 4,
 "nbformat_minor": 4
}
