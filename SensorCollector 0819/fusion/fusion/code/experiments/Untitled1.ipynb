{
 "cells": [
  {
   "cell_type": "code",
   "execution_count": 1,
   "metadata": {},
   "outputs": [],
   "source": [
    "%reload_ext autoreload\n",
    "%autoreload 2\n",
    "\n",
    "import numpy as np\n",
    "import matplotlib.pyplot as plt\n",
    "import matplotlib\n",
    "import os\n",
    "\n",
    "from sites import *\n",
    "\n",
    "%matplotlib widget\n"
   ]
  },
  {
   "cell_type": "code",
   "execution_count": 2,
   "metadata": {},
   "outputs": [],
   "source": [
    "matplotlib.rcParams['font.size'] = 18"
   ]
  },
  {
   "cell_type": "code",
   "execution_count": 3,
   "metadata": {},
   "outputs": [
    {
     "data": {
      "application/vnd.jupyter.widget-view+json": {
       "model_id": "66263c2cbb944454991e205177d9e6d2",
       "version_major": 2,
       "version_minor": 0
      },
      "text/plain": [
       "Canvas(toolbar=Toolbar(toolitems=[('Home', 'Reset original view', 'home', 'home'), ('Back', 'Back to previous …"
      ]
     },
     "metadata": {},
     "output_type": "display_data"
    }
   ],
   "source": [
    "plt.figure()\n",
    "\n",
    "# corridor, lta, atrium\n",
    "sifu_means = (1.91, 3.45, 3.28)\n",
    "wideep_means = (3.24, 5.07, 6.36)\n",
    "fsw_means = (3.04, 4.40, 5.37)\n",
    "naive_means = (2.45, 4.01, 3.93)\n",
    "google_means = (12.41, 7.23, 13.01)\n",
    "\n",
    "ind = np.arange(3) \n",
    "width = 0.15    \n",
    "plt.bar(ind, sifu_means, width, label='SiFu')\n",
    "plt.bar(ind + width, wideep_means, width, label='WiDeep')\n",
    "plt.bar(ind + width*2, fsw_means, width, label='FSW')\n",
    "plt.bar(ind + width*3, naive_means, width, label='Naive')\n",
    "# plt.bar(ind + width*4, google_means, width, label='Google')\n",
    "\n",
    "\n",
    "plt.ylabel('Mean Localization Error (m)')\n",
    "plt.xticks(ind + width*1.5 , ('Corridor', 'Indoor Open Space', 'Atrium'))\n",
    "plt.legend(loc='best')\n",
    "plt.show()"
   ]
  },
  {
   "cell_type": "code",
   "execution_count": 7,
   "metadata": {},
   "outputs": [
    {
     "data": {
      "application/vnd.jupyter.widget-view+json": {
       "model_id": "8f3870eecd8744b79d6cb319cfa4301e",
       "version_major": 2,
       "version_minor": 0
      },
      "text/plain": [
       "Canvas(toolbar=Toolbar(toolitems=[('Home', 'Reset original view', 'home', 'home'), ('Back', 'Back to previous …"
      ]
     },
     "metadata": {},
     "output_type": "display_data"
    }
   ],
   "source": [
    "fig, ax = plt.subplots(figsize=(8,6))\n",
    "\n",
    "#corridor\n",
    "me_haha = [2.20, 2.08, 1.91, 2.66, 3.21, 3.33]\n",
    "me_wifi = [3.02, 3.13, 3.24, 3.09, 3.53, 3.67]\n",
    "me_fsw = [3.27, 3.17, 3.04, 3.27, 3.26, 3.39]\n",
    "me_naive = [2.26, 2.41, 2.45, 3.19, 3.56, 3.68]\n",
    "ax.set_ylim(1.5, 4)\n",
    "\n",
    "# lta\n",
    "me_haha = [3.40, 3.58, 3.45, 3.87, 4.07, 4.54]\n",
    "me_wifi = [4.24, 4.12, 5.07, 5.10, 5.18, 5.17]\n",
    "me_fsw = [4.02, 3.64, 4.40, 4.66, 4.75, 4.79]\n",
    "me_naive = [3.59, 3.54, 4.01, 4.15, 4.36, 4.41]\n",
    "ax.set_ylim(3, 5.5)\n",
    "\n",
    "# atrium\n",
    "me_haha = [3.1, 3.20, 3.28, 3.58, 3.60, 4.02]\n",
    "me_wifi = [5.07, 5.13, 6.36, 5.52, 5.32, 5.71]\n",
    "me_fsw = [4.39, 4.65, 5.37, 5.22, 5.51, 5.64]\n",
    "me_naive = [3.59, 3.48, 3.93, 4.64, 4.80, 4.95]\n",
    "ax.set_ylim(1.25, 6.5)\n",
    "\n",
    "gridsizes = [0.5, 1, 1.5, 2, 3, 4.5]\n",
    "ax.plot(gridsizes, me_haha, marker='o', label='SiFu')\n",
    "ax.plot(gridsizes, me_wifi, marker='^', label='WiDeep', linestyle='--')\n",
    "ax.plot(gridsizes, me_fsw, marker='D', label='FSW', linestyle='-.')\n",
    "ax.plot(gridsizes, me_naive, marker='s', label='Naive', linestyle=':')\n",
    "ax.grid(b=True, which='major', color='#dddddd', linestyle='-')\n",
    "\n",
    "ax.set_xscale('log')\n",
    "ax.set_xlim(0.5, 4.5)\n",
    "ax.set_xticks(gridsizes)\n",
    "ax.xaxis.set_major_formatter(matplotlib.ticker.ScalarFormatter())\n",
    "ax.xaxis.set_minor_formatter(matplotlib.ticker.NullFormatter())\n",
    "ax.set_xlabel('Grid Size (m)')\n",
    "ax.set_ylabel('Mean Localization Error (m)')\n",
    "\n",
    "\n",
    "handles,labels = ax.get_legend_handles_labels()\n",
    "handles = [handles[1], handles[2], handles[3], handles[0]]\n",
    "labels = [labels[1], labels[2], labels[3], labels[0]]\n",
    "ax.legend(handles, labels, loc=4)\n",
    "fig.show()"
   ]
  },
  {
   "cell_type": "code",
   "execution_count": null,
   "metadata": {},
   "outputs": [],
   "source": []
  },
  {
   "cell_type": "code",
   "execution_count": 8,
   "metadata": {},
   "outputs": [
    {
     "data": {
      "application/vnd.jupyter.widget-view+json": {
       "model_id": "46ebdc13aaa14f77b2327bac79cfe510",
       "version_major": 2,
       "version_minor": 0
      },
      "text/plain": [
       "Canvas(toolbar=Toolbar(toolitems=[('Home', 'Reset original view', 'home', 'home'), ('Back', 'Back to previous …"
      ]
     },
     "metadata": {},
     "output_type": "display_data"
    }
   ],
   "source": [
    "fig, ax = plt.subplots(figsize=(8,6))\n",
    "\n",
    "times_atrium = [2.14, 0.544, 0.501, 0.455, 0.416, 0.411]\n",
    "times_lta = [1.18, 0.598, 0.520, 0.507, 0.498, 0.470]\n",
    "times_corr = [0.142, 0.130, 0.125, 0.124, 0.123, 0.117]\n",
    "gridsizes = [0.5, 1, 1.5, 2, 3, 4.5]\n",
    "\n",
    "ax.plot(gridsizes, times_lta, marker='^', label='Indoor Open Space')\n",
    "ax.plot(gridsizes, times_atrium, marker='o', label='Atrium', linestyle='--')\n",
    "ax.plot(gridsizes, times_corr, marker='D', label='Corridor', linestyle=':')\n",
    "ax.grid(b=True, which='major', color='#dddddd', linestyle='-')\n",
    "\n",
    "ax.set_xscale('log')\n",
    "ax.set_xticks(gridsizes)\n",
    "ax.xaxis.set_major_formatter(matplotlib.ticker.ScalarFormatter())\n",
    "ax.xaxis.set_minor_formatter(matplotlib.ticker.NullFormatter())\n",
    "ax.set_ylim(0.1,0.7)\n",
    "ax.set_xlim(0.5, 4.5)\n",
    "ax.set_xlabel('Grid Size (m)')\n",
    "ax.set_ylabel('Mean Computation Time (s)')\n",
    "ax.legend()\n",
    "fig.show()"
   ]
  },
  {
   "cell_type": "code",
   "execution_count": 9,
   "metadata": {},
   "outputs": [
    {
     "data": {
      "application/vnd.jupyter.widget-view+json": {
       "model_id": "5ed0efb3d85e4cf28a56dbb4a4c697e6",
       "version_major": 2,
       "version_minor": 0
      },
      "text/plain": [
       "Canvas(toolbar=Toolbar(toolitems=[('Home', 'Reset original view', 'home', 'home'), ('Back', 'Back to previous …"
      ]
     },
     "metadata": {},
     "output_type": "display_data"
    }
   ],
   "source": [
    "plt.figure(figsize=(8,6))\n",
    "\n",
    "me_atrium = [4.89, 3.39, 3.28, 3.54, 3.93, 3.73]\n",
    "me_lta = [5.20, 4.40, 3.45, 3.55, 4.06, 4.17]\n",
    "me_corr = [4.16, 3.67, 1.91, 2.20, 2.23, 2.86]\n",
    "ranges = [3, 6, 9, 12, 15, 18]\n",
    "\n",
    "plt.plot(ranges, me_lta, marker='^', label='Indoor Open Space')\n",
    "plt.plot(ranges, me_atrium, marker='o', label='Atrium', linestyle='--')\n",
    "plt.plot(ranges, me_corr, marker='D', label='Corridor', linestyle=':')\n",
    "plt.grid(b=True, which='major', color='#dddddd', linestyle='-')\n",
    "\n",
    "plt.xlabel('Magnetic Matching Range (m)')\n",
    "plt.ylabel('Mean Localization Error (m)')\n",
    "plt.xticks(ranges)\n",
    "plt.xlim(3,18)\n",
    "plt.legend()\n",
    "plt.show()"
   ]
  },
  {
   "cell_type": "code",
   "execution_count": 10,
   "metadata": {},
   "outputs": [
    {
     "data": {
      "application/vnd.jupyter.widget-view+json": {
       "model_id": "695a2f4d397b4e68a126f2cf6a89cdd2",
       "version_major": 2,
       "version_minor": 0
      },
      "text/plain": [
       "Canvas(toolbar=Toolbar(toolitems=[('Home', 'Reset original view', 'home', 'home'), ('Back', 'Back to previous …"
      ]
     },
     "metadata": {},
     "output_type": "display_data"
    }
   ],
   "source": [
    "plt.figure(figsize=(8,6))\n",
    "\n",
    "times_atrium = [0.084, 0.255, 0.501, 0.780, 1.11, 1.42]\n",
    "times_lta = [0.103, 0.324, 0.520, 0.591, 0.691, 0.884]\n",
    "times_corr = [0.043, 0.082, 0.125, 0.172, 0.214, 0.262]\n",
    "ranges = [3, 6, 9, 12, 15, 18]\n",
    "\n",
    "plt.plot(ranges, times_lta, marker='^', label='Indoor Open Space')\n",
    "plt.plot(ranges, times_atrium, marker='o', label='Atrium', linestyle='--')\n",
    "plt.plot(ranges, times_corr, marker='D', label='Corridor', linestyle=':')\n",
    "plt.grid(b=True, which='major', color='#dddddd', linestyle='-')\n",
    "\n",
    "plt.xlabel('Magnetic Matching Range (m)')\n",
    "plt.ylabel('Mean Computation Time (s)')\n",
    "plt.xticks(ranges)\n",
    "plt.xlim(3,18)\n",
    "plt.legend()\n",
    "plt.show()"
   ]
  },
  {
   "cell_type": "code",
   "execution_count": 11,
   "metadata": {},
   "outputs": [
    {
     "data": {
      "application/vnd.jupyter.widget-view+json": {
       "model_id": "169a4d2fe65f4827b368b2d61eedb137",
       "version_major": 2,
       "version_minor": 0
      },
      "text/plain": [
       "Canvas(toolbar=Toolbar(toolitems=[('Home', 'Reset original view', 'home', 'home'), ('Back', 'Back to previous …"
      ]
     },
     "metadata": {},
     "output_type": "display_data"
    }
   ],
   "source": [
    "fig, ax = plt.subplots(figsize=(8,8))\n",
    "\n",
    "me_atrium = [3.63, 3.46, 3.46, 3.28, 2.93, 3.39]\n",
    "me_lta = [4.23, 3.80, 3.68, 3.45, 4.13, 4.48]\n",
    "me_corr = [3.80, 2.52, 2.34, 1.91, 2.93, 3.31]\n",
    "sigma_m = [1e3, 5e3, 8e3, 1e4, 5e4, 1e5]\n",
    "\n",
    "ax.plot(sigma_m, me_lta, marker='^', label='Indoor Open Space')\n",
    "ax.plot(sigma_m, me_atrium, marker='o', label='Atrium', linestyle='--')\n",
    "ax.plot(sigma_m, me_corr, marker='D', label='Corridor', linestyle=':')\n",
    "ax.grid(b=True, which='major', color='#dddddd', linestyle='-')\n",
    "\n",
    "ax.set_xscale('log')\n",
    "ax.set_xlim(1e3, 1e5)\n",
    "ax.set_xticks(sigma_m)\n",
    "# ax.xaxis.set_major_formatter(matplotlib.ticker.ScalarFormatter())\n",
    "# ax.xaxis.get_major_formatter().set_scientific(True)\n",
    "# ax.xaxis.set_minor_formatter(matplotlib.ticker.NullFormatter())\n",
    "\n",
    "ax.set_xlabel('$\\sigma_m$')\n",
    "ax.set_ylabel('Mean Localization Error (m)')\n",
    "# plt.xticks(ticks=np.arange(len(sigma_m)), labels=sigma_m)\n",
    "ax.legend()\n",
    "fig.show()"
   ]
  },
  {
   "cell_type": "code",
   "execution_count": 12,
   "metadata": {},
   "outputs": [
    {
     "data": {
      "application/vnd.jupyter.widget-view+json": {
       "model_id": "1cb1f4e375d34ebfa61a1bb585423b18",
       "version_major": 2,
       "version_minor": 0
      },
      "text/plain": [
       "Canvas(toolbar=Toolbar(toolitems=[('Home', 'Reset original view', 'home', 'home'), ('Back', 'Back to previous …"
      ]
     },
     "metadata": {},
     "output_type": "display_data"
    }
   ],
   "source": [
    "fig, ax = plt.subplots(figsize=(8,6))\n",
    "\n",
    "me_atrium = [4.74, 4.48, 3.28, 3.42, 5.16, 5.24, 5.72, 6.37]\n",
    "me_lta = [4.39, 4.19, 3.45, 3.96, 4.00, 4.24, 4.44, 4.55]\n",
    "me_corr = [2.81, 2.81, 1.91, 2.35, 2.27, 2.42, 2.52, 2.59]\n",
    "sigma_w = [1,3,5,7,10,15,20,30]\n",
    "\n",
    "ax.plot(sigma_w, me_lta, marker='^', label='Indoor Open Space')\n",
    "ax.plot(sigma_w, me_atrium, marker='o', label='Atrium', linestyle='--')\n",
    "ax.plot(sigma_w, me_corr, marker='D', label='Corridor', linestyle=':')\n",
    "ax.grid(b=True, which='major', color='#dddddd', linestyle='-')\n",
    "\n",
    "ax.set_xscale('log')\n",
    "ax.xaxis.set_major_formatter(matplotlib.ticker.ScalarFormatter())\n",
    "ax.xaxis.set_minor_formatter(matplotlib.ticker.NullFormatter())\n",
    "ax.set_xticks(sigma_w)\n",
    "ax.set_xlabel('$\\sigma_w$')\n",
    "ax.set_ylabel('Mean Localization Error (m)')\n",
    "# plt.xticks(ticks=np.arange(len(sigma_m)), labels=sigma_m)\n",
    "plt.xlim(1,30)\n",
    "ax.legend()\n",
    "fig.show()"
   ]
  },
  {
   "cell_type": "code",
   "execution_count": 13,
   "metadata": {},
   "outputs": [
    {
     "data": {
      "application/vnd.jupyter.widget-view+json": {
       "model_id": "84dbc9cfeb674b96a931c32139a01e51",
       "version_major": 2,
       "version_minor": 0
      },
      "text/plain": [
       "Canvas(toolbar=Toolbar(toolitems=[('Home', 'Reset original view', 'home', 'home'), ('Back', 'Back to previous …"
      ]
     },
     "metadata": {},
     "output_type": "display_data"
    }
   ],
   "source": [
    "plt.figure(figsize=(8,6))\n",
    "\n",
    "# corridor, lta, atrium\n",
    "sifu_means = (2.13, 3.95, 4.46)\n",
    "wideep_means = (4.74, 7.12, 6.97)\n",
    "fsw_means = (4.13, 6.67, 6.61)\n",
    "naive_means = (2.67, 4.40, 7.13)\n",
    "google_means = (12.41, 7.23, 13.01)\n",
    "\n",
    "ind = np.arange(3) \n",
    "width = 0.15    \n",
    "plt.bar(ind, sifu_means, width, label='SiFu')\n",
    "plt.bar(ind + width, wideep_means, width, label='WiDeep')\n",
    "plt.bar(ind + width*2, fsw_means, width, label='FSW')\n",
    "plt.bar(ind + width*3, naive_means, width, label='Naive')\n",
    "# plt.bar(ind + width*4, google_means, width, label='Google')\n",
    "\n",
    "\n",
    "plt.ylabel('Mean Localization Error (m)')\n",
    "plt.xticks(ind + width*1.5 , ('Corridor', 'Indoor Open Space', 'Atrium'))\n",
    "plt.legend()\n",
    "plt.show()"
   ]
  },
  {
   "cell_type": "code",
   "execution_count": 32,
   "metadata": {},
   "outputs": [
    {
     "name": "stderr",
     "output_type": "stream",
     "text": [
      "<ipython-input-32-cb597033e12a>:1: RuntimeWarning: More than 20 figures have been opened. Figures created through the pyplot interface (`matplotlib.pyplot.figure`) are retained until explicitly closed and may consume too much memory. (To control this warning, see the rcParam `figure.max_open_warning`).\n",
      "  plt.figure()\n"
     ]
    },
    {
     "data": {
      "application/vnd.jupyter.widget-view+json": {
       "model_id": "abcfd5ad06f543d59608c2dc76c6790b",
       "version_major": 2,
       "version_minor": 0
      },
      "text/plain": [
       "Canvas(toolbar=Toolbar(toolitems=[('Home', 'Reset original view', 'home', 'home'), ('Back', 'Back to previous …"
      ]
     },
     "metadata": {},
     "output_type": "display_data"
    }
   ],
   "source": [
    "plt.figure()\n",
    "\n",
    "site = Hahaha()\n",
    "# x1,x2,y1,y2 = 2810,3700,1350,1600\n",
    "x1,x2,y1,y2 = 4200,5700,1500,2100\n",
    "# x1,x2,y1,y2 = 1800, 2800, 1000, 2500\n",
    "\n",
    "# plt.figure(figsize=(20,10))\n",
    "im = plt.imread(os.path.join('../../map', site.map_name))[y1:y2,x1:x2]\n",
    "plt.imshow(im)\n",
    "# plt.plot(results_sifu[:,2]-x1, results_sifu[:,3]-y1, lw=1)\n",
    "# plt.plot(results_sifu[:,0]-x1, results_sifu[:,1]-y1, lw=1)\n",
    "\n",
    "plt.show()"
   ]
  },
  {
   "cell_type": "code",
   "execution_count": null,
   "metadata": {},
   "outputs": [],
   "source": []
  },
  {
   "cell_type": "code",
   "execution_count": 12,
   "metadata": {},
   "outputs": [
    {
     "data": {
      "application/vnd.jupyter.widget-view+json": {
       "model_id": "ae31e0263ed04c469c94086b16c97954",
       "version_major": 2,
       "version_minor": 0
      },
      "text/plain": [
       "Canvas(toolbar=Toolbar(toolitems=[('Home', 'Reset original view', 'home', 'home'), ('Back', 'Back to previous …"
      ]
     },
     "metadata": {},
     "output_type": "display_data"
    }
   ],
   "source": [
    "plt.figure()\n",
    "\n",
    "# corridor, lta, atrium\n",
    "sifu_means = (2.62, 4.37, 4.35)\n",
    "eucl_means = (2.90, 6.11, 6.23)\n",
    "cosine_means = (2.85, 5.56, 6.43)\n",
    "\n",
    "\n",
    "ind = np.arange(3) \n",
    "width = 0.15    \n",
    "plt.bar(ind, sifu_means, width, label='SiFu')\n",
    "plt.bar(ind + width, eucl_means, width, label='Euclidean')\n",
    "plt.bar(ind + width*2, cosine_means, width, label='Cosine')\n",
    "\n",
    "\n",
    "plt.ylabel('Mean Localization Error (m)')\n",
    "plt.xticks(ind + width*1.5 , ('Corridor', 'Indoor Open Space', 'Atrium'))\n",
    "plt.legend(loc='best')\n",
    "plt.show()"
   ]
  },
  {
   "cell_type": "code",
   "execution_count": null,
   "metadata": {},
   "outputs": [],
   "source": []
  }
 ],
 "metadata": {
  "kernelspec": {
   "display_name": "Python 3",
   "language": "python",
   "name": "python3"
  },
  "language_info": {
   "codemirror_mode": {
    "name": "ipython",
    "version": 3
   },
   "file_extension": ".py",
   "mimetype": "text/x-python",
   "name": "python",
   "nbconvert_exporter": "python",
   "pygments_lexer": "ipython3",
   "version": "3.8.5"
  }
 },
 "nbformat": 4,
 "nbformat_minor": 4
}
