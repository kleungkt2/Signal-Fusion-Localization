{
 "cells": [
  {
   "cell_type": "code",
   "execution_count": 1,
   "metadata": {},
   "outputs": [
    {
     "ename": "ValueError",
     "evalue": "could not convert string to float: '{\"accuracy\":3'",
     "output_type": "error",
     "traceback": [
      "\u001b[1;31m---------------------------------------------------------------------------\u001b[0m",
      "\u001b[1;31mValueError\u001b[0m                                Traceback (most recent call last)",
      "\u001b[1;32m<ipython-input-1-ce9065ce7ae5>\u001b[0m in \u001b[0;36m<module>\u001b[1;34m\u001b[0m\n\u001b[0;32m     32\u001b[0m \u001b[0mrp_locs\u001b[0m \u001b[1;33m=\u001b[0m \u001b[0mgenerate_line_grid\u001b[0m\u001b[1;33m(\u001b[0m\u001b[0mconstraints1\u001b[0m\u001b[1;33m,\u001b[0m \u001b[0mgridsize\u001b[0m\u001b[1;33m)\u001b[0m \u001b[1;33m+\u001b[0m \u001b[0mgenerate_filled_grid\u001b[0m\u001b[1;33m(\u001b[0m\u001b[0mconstraints2\u001b[0m\u001b[1;33m,\u001b[0m \u001b[0mgridsize\u001b[0m\u001b[1;33m)\u001b[0m\u001b[1;33m\u001b[0m\u001b[1;33m\u001b[0m\u001b[0m\n\u001b[0;32m     33\u001b[0m \u001b[0mrp_locs\u001b[0m \u001b[1;33m=\u001b[0m \u001b[0mlist\u001b[0m\u001b[1;33m(\u001b[0m\u001b[0mset\u001b[0m\u001b[1;33m(\u001b[0m\u001b[0mrp_locs\u001b[0m\u001b[1;33m)\u001b[0m\u001b[1;33m)\u001b[0m\u001b[1;33m\u001b[0m\u001b[1;33m\u001b[0m\u001b[0m\n\u001b[1;32m---> 34\u001b[1;33m \u001b[0mfp_vals\u001b[0m\u001b[1;33m,\u001b[0m \u001b[0mfp_locs\u001b[0m \u001b[1;33m=\u001b[0m \u001b[0mread_magnetic_fingerprint\u001b[0m\u001b[1;33m(\u001b[0m\u001b[0mglob\u001b[0m\u001b[1;33m.\u001b[0m\u001b[0mglob\u001b[0m\u001b[1;33m(\u001b[0m\u001b[0mos\u001b[0m\u001b[1;33m.\u001b[0m\u001b[0mpath\u001b[0m\u001b[1;33m.\u001b[0m\u001b[0mjoin\u001b[0m\u001b[1;33m(\u001b[0m\u001b[0mdataset_dir\u001b[0m\u001b[1;33m,\u001b[0m \u001b[1;34m'na*_Sensors.txt'\u001b[0m\u001b[1;33m)\u001b[0m\u001b[1;33m)\u001b[0m\u001b[1;33m)\u001b[0m\u001b[1;33m\u001b[0m\u001b[1;33m\u001b[0m\u001b[0m\n\u001b[0m\u001b[0;32m     35\u001b[0m \u001b[0mtest_vals\u001b[0m\u001b[1;33m,\u001b[0m \u001b[0mtest_locs\u001b[0m \u001b[1;33m=\u001b[0m \u001b[0mread_magnetic_fingerprint\u001b[0m\u001b[1;33m(\u001b[0m\u001b[0mglob\u001b[0m\u001b[1;33m.\u001b[0m\u001b[0mglob\u001b[0m\u001b[1;33m(\u001b[0m\u001b[0mos\u001b[0m\u001b[1;33m.\u001b[0m\u001b[0mpath\u001b[0m\u001b[1;33m.\u001b[0m\u001b[0mjoin\u001b[0m\u001b[1;33m(\u001b[0m\u001b[0mdataset_dir2\u001b[0m\u001b[1;33m,\u001b[0m \u001b[1;34m'mi*_Sensors.txt'\u001b[0m\u001b[1;33m)\u001b[0m\u001b[1;33m)\u001b[0m\u001b[1;33m)\u001b[0m\u001b[1;33m\u001b[0m\u001b[1;33m\u001b[0m\u001b[0m\n\u001b[0;32m     36\u001b[0m \u001b[1;33m\u001b[0m\u001b[0m\n",
      "\u001b[1;32mD:\\2020 Fall\\COMP4971C\\code (1)\\code\\util\\data_util.py\u001b[0m in \u001b[0;36mread_magnetic_fingerprint\u001b[1;34m(paths)\u001b[0m\n\u001b[0;32m     67\u001b[0m \u001b[1;33m\u001b[0m\u001b[0m\n\u001b[0;32m     68\u001b[0m         \u001b[0mpoints\u001b[0m \u001b[1;33m=\u001b[0m \u001b[0mlines\u001b[0m\u001b[1;33m[\u001b[0m\u001b[1;36m1\u001b[0m\u001b[1;33m]\u001b[0m\u001b[1;33m.\u001b[0m\u001b[0msplit\u001b[0m\u001b[1;33m(\u001b[0m\u001b[1;33m)\u001b[0m\u001b[1;33m\u001b[0m\u001b[1;33m\u001b[0m\u001b[0m\n\u001b[1;32m---> 69\u001b[1;33m         \u001b[0mpoints\u001b[0m \u001b[1;33m=\u001b[0m \u001b[1;33m[\u001b[0m\u001b[0mtuple\u001b[0m\u001b[1;33m(\u001b[0m\u001b[0mmap\u001b[0m\u001b[1;33m(\u001b[0m\u001b[0mfloat\u001b[0m\u001b[1;33m,\u001b[0m \u001b[0mp\u001b[0m\u001b[1;33m.\u001b[0m\u001b[0msplit\u001b[0m\u001b[1;33m(\u001b[0m\u001b[1;34m','\u001b[0m\u001b[1;33m)\u001b[0m\u001b[1;33m)\u001b[0m\u001b[1;33m)\u001b[0m \u001b[1;32mfor\u001b[0m \u001b[0mp\u001b[0m \u001b[1;32min\u001b[0m \u001b[0mpoints\u001b[0m\u001b[1;33m]\u001b[0m\u001b[1;33m\u001b[0m\u001b[1;33m\u001b[0m\u001b[0m\n\u001b[0m\u001b[0;32m     70\u001b[0m         \u001b[0mtimestamps\u001b[0m \u001b[1;33m=\u001b[0m \u001b[0mlist\u001b[0m\u001b[1;33m(\u001b[0m\u001b[0mmap\u001b[0m\u001b[1;33m(\u001b[0m\u001b[0mint\u001b[0m\u001b[1;33m,\u001b[0m \u001b[0mlines\u001b[0m\u001b[1;33m[\u001b[0m\u001b[1;36m2\u001b[0m\u001b[1;33m]\u001b[0m\u001b[1;33m.\u001b[0m\u001b[0msplit\u001b[0m\u001b[1;33m(\u001b[0m\u001b[1;33m)\u001b[0m\u001b[1;33m)\u001b[0m\u001b[1;33m)\u001b[0m\u001b[1;33m\u001b[0m\u001b[1;33m\u001b[0m\u001b[0m\n\u001b[0;32m     71\u001b[0m \u001b[1;33m\u001b[0m\u001b[0m\n",
      "\u001b[1;32mD:\\2020 Fall\\COMP4971C\\code (1)\\code\\util\\data_util.py\u001b[0m in \u001b[0;36m<listcomp>\u001b[1;34m(.0)\u001b[0m\n\u001b[0;32m     67\u001b[0m \u001b[1;33m\u001b[0m\u001b[0m\n\u001b[0;32m     68\u001b[0m         \u001b[0mpoints\u001b[0m \u001b[1;33m=\u001b[0m \u001b[0mlines\u001b[0m\u001b[1;33m[\u001b[0m\u001b[1;36m1\u001b[0m\u001b[1;33m]\u001b[0m\u001b[1;33m.\u001b[0m\u001b[0msplit\u001b[0m\u001b[1;33m(\u001b[0m\u001b[1;33m)\u001b[0m\u001b[1;33m\u001b[0m\u001b[1;33m\u001b[0m\u001b[0m\n\u001b[1;32m---> 69\u001b[1;33m         \u001b[0mpoints\u001b[0m \u001b[1;33m=\u001b[0m \u001b[1;33m[\u001b[0m\u001b[0mtuple\u001b[0m\u001b[1;33m(\u001b[0m\u001b[0mmap\u001b[0m\u001b[1;33m(\u001b[0m\u001b[0mfloat\u001b[0m\u001b[1;33m,\u001b[0m \u001b[0mp\u001b[0m\u001b[1;33m.\u001b[0m\u001b[0msplit\u001b[0m\u001b[1;33m(\u001b[0m\u001b[1;34m','\u001b[0m\u001b[1;33m)\u001b[0m\u001b[1;33m)\u001b[0m\u001b[1;33m)\u001b[0m \u001b[1;32mfor\u001b[0m \u001b[0mp\u001b[0m \u001b[1;32min\u001b[0m \u001b[0mpoints\u001b[0m\u001b[1;33m]\u001b[0m\u001b[1;33m\u001b[0m\u001b[1;33m\u001b[0m\u001b[0m\n\u001b[0m\u001b[0;32m     70\u001b[0m         \u001b[0mtimestamps\u001b[0m \u001b[1;33m=\u001b[0m \u001b[0mlist\u001b[0m\u001b[1;33m(\u001b[0m\u001b[0mmap\u001b[0m\u001b[1;33m(\u001b[0m\u001b[0mint\u001b[0m\u001b[1;33m,\u001b[0m \u001b[0mlines\u001b[0m\u001b[1;33m[\u001b[0m\u001b[1;36m2\u001b[0m\u001b[1;33m]\u001b[0m\u001b[1;33m.\u001b[0m\u001b[0msplit\u001b[0m\u001b[1;33m(\u001b[0m\u001b[1;33m)\u001b[0m\u001b[1;33m)\u001b[0m\u001b[1;33m)\u001b[0m\u001b[1;33m\u001b[0m\u001b[1;33m\u001b[0m\u001b[0m\n\u001b[0;32m     71\u001b[0m \u001b[1;33m\u001b[0m\u001b[0m\n",
      "\u001b[1;31mValueError\u001b[0m: could not convert string to float: '{\"accuracy\":3'"
     ]
    }
   ],
   "source": [
    "import os\n",
    "import sys\n",
    "sys.path.append(os.path.abspath(os.path.join('..')))\n",
    "from sites.config import *\n",
    "from model.mag import MagDTWMatching\n",
    "from util.general_util import *\n",
    "from util.data_util import read_magnetic_fingerprint, construct_mag_fp\n",
    "\n",
    "\n",
    "import glob\n",
    "from PIL import Image, ImageDraw\n",
    "\n",
    "\n",
    "\n",
    "site = LTA()\n",
    "site_name = site.name\n",
    "constraints1 = site.constraints1\n",
    "constraints2 = site.constraints2\n",
    "map_path = site.map_path\n",
    "dataset_dir = site.dataset_dir\n",
    "dataset_dir2 = site.dataset_dir2\n",
    "log_dir = os.path.join(site.log_dir, 'mag')\n",
    "if not os.path.isdir(site.log_dir):\n",
    "    os.mkdir(site.log_dir)\n",
    "if not os.path.isdir(log_dir):\n",
    "    os.mkdir(log_dir)\n",
    "\n",
    "gridsize = site.gridsize\n",
    "r = site.scale * 9\n",
    "\n",
    "\n",
    "rp_locs = generate_line_grid(constraints1, gridsize) + generate_filled_grid(constraints2, gridsize)\n",
    "rp_locs = list(set(rp_locs))\n",
    "fp_vals, fp_locs = read_magnetic_fingerprint(glob.glob(os.path.join(dataset_dir, 'na*_Sensors.txt')))\n",
    "test_vals, test_locs = read_magnetic_fingerprint(glob.glob(os.path.join(dataset_dir2, 'mi*_Sensors.txt')))\n",
    "\n",
    "mag_fp = construct_mag_fp(fp_vals, fp_locs, rp_locs, seq_length=site.scale*3, step_size=100)\n",
    "with open(os.path.join(log_dir, 'fingerprint.txt'), 'w') as f:\n",
    "    for k, v in mag_fp.items():\n",
    "        f.write(\"{} {}\".format(k[0], k[1]))\n",
    "        print(len(v))\n",
    "        for seq in v:\n",
    "            f.write(\" {}\".format(\",\".join(map(str, seq))))\n",
    "        f.write(\"\\n\")\n",
    "\n",
    "\n",
    "w = 100\n",
    "mag = MagDTWMatching(mag_fp)\n",
    "\n",
    "predictions, truths = [], []\n",
    "print(len(test_locs))\n",
    "for test_val, test_loc in zip(test_vals, test_locs):\n",
    "    print(len(test_loc))\n",
    "    for i in range(0, len(test_loc)-w, w):\n",
    "        truth = np.array(test_loc[i+w])\n",
    "        prob = mag.predict(test_val[i:i+w], truth, sigma=5e2, d_range=r)\n",
    "        prob = prob / np.sum(prob)\n",
    "        pred = np.sum(prob[:, np.newaxis] * rp_locs, axis=0)\n",
    "        acc = np.linalg.norm(pred - truth)\n",
    "\n",
    "        print(i, acc, pred, truth)\n",
    "        predictions.append(pred)\n",
    "        truths.append(truth)\n",
    "\n",
    "im = Image.open(map_path)\n",
    "draw = ImageDraw.Draw(im)\n",
    "for pred, truth in zip(predictions, truths):\n",
    "    draw.line((pred[0], pred[1], truth[0], truth[1]), fill=256)\n",
    "im.show()\n",
    "im.save(os.path.join(log_dir, '%s_mag.jpg' % site_name))\n",
    "\n",
    "np.savetxt(os.path.join(log_dir, 'weight.txt'), np.ones(len(rp_locs)))\n"
   ]
  },
  {
   "cell_type": "code",
   "execution_count": null,
   "metadata": {},
   "outputs": [],
   "source": []
  }
 ],
 "metadata": {
  "kernelspec": {
   "display_name": "Python 3",
   "language": "python",
   "name": "python3"
  },
  "language_info": {
   "codemirror_mode": {
    "name": "ipython",
    "version": 3
   },
   "file_extension": ".py",
   "mimetype": "text/x-python",
   "name": "python",
   "nbconvert_exporter": "python",
   "pygments_lexer": "ipython3",
   "version": "3.8.5"
  }
 },
 "nbformat": 4,
 "nbformat_minor": 4
}
