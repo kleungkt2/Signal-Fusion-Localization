{
 "cells": [
  {
   "cell_type": "code",
   "execution_count": 15,
   "metadata": {},
   "outputs": [],
   "source": [
    "%reload_ext autoreload\n",
    "%autoreload 2\n",
    "import os\n",
    "import sys\n",
    "sys.path.append(os.path.abspath(os.path.join('..')))\n",
    "import numpy as np\n",
    "import tensorflow as tf\n",
    "import matplotlib.pyplot as plt\n",
    "from matplotlib import path\n",
    "import matplotlib.animation as animation\n",
    "import matplotlib\n",
    "import time\n",
    "\n",
    "import glob\n",
    "import json\n",
    "from scipy.signal import find_peaks, butter, filtfilt\n",
    "from model.bayes_filter import ParticleFilter\n",
    "from sites.config import *\n",
    "from util.general_util import *\n",
    "from util.data_util import *\n",
    "from model import *"
   ]
  },
  {
   "cell_type": "code",
   "execution_count": 2,
   "metadata": {},
   "outputs": [],
   "source": [
    "matplotlib.rcParams['font.size'] = 16\n",
    "\n",
    "physical_devices = tf.config.experimental.list_physical_devices('GPU')\n",
    "if physical_devices:\n",
    "    tf.config.experimental.set_memory_growth(physical_devices[0], True)"
   ]
  },
  {
   "cell_type": "code",
   "execution_count": 8,
   "metadata": {},
   "outputs": [],
   "source": [
    "def read_reference_points(grid_path):\n",
    "    rp_locs, rp_features = [], []\n",
    "    with open(grid_path) as f:\n",
    "        lines = f.readlines()\n",
    "    for line in lines:\n",
    "        x, y, *features = line.split(' ')\n",
    "        features = list(map(float, features))\n",
    "        rp_locs.append((int(x),int(y)))\n",
    "        rp_features.append(features)\n",
    "\n",
    "    return rp_locs, rp_features\n",
    "\n",
    "def smooth(seq, interval=200):\n",
    "    #seq = [(v1,ts),...]\n",
    "    smoothed = []\n",
    "    for x in seq:\n",
    "        sub_array = [s[0] for s in seq if x[1] <= s[1] <= x[1] + interval]\n",
    "        smoothed.append(np.mean(sub_array, axis=0).tolist())\n",
    "    return smoothed\n",
    "    \n",
    "def readInsData(directory):\n",
    "    files = sorted(glob.glob(os.path.join(directory, 'na*_Sensors.txt')))\n",
    "    paths = []\n",
    "    for file in files:\n",
    "        path = []\n",
    "        lines = open(file).readlines()\n",
    "        for line in lines[3:]:\n",
    "            line = json.loads(line)\n",
    "            if line['type'] in {1,2,3,4,9}:\n",
    "                path.append(line)\n",
    "        paths.append(path)\n",
    "    return paths\n",
    "\n",
    "def readData(directory, window_size = 1000):\n",
    "    sensor_lookup = {1:0, 2:1, 3:2, 4:3, 9:4}\n",
    "    wifi_files = sorted(glob.glob(os.path.join(directory, 'na*_WiFi.txt')))\n",
    "    sensor_files = sorted(glob.glob(os.path.join(directory, 'na*_Sensors.txt')))\n",
    "    google_files = sorted(glob.glob(os.path.join(directory, 'na*_Google.txt')))\n",
    "    gps_files = sorted(glob.glob(os.path.join(directory, 'na*_GPS.txt')))\n",
    "\n",
    "    paths = []\n",
    "    for w,s,g,gg in zip(wifi_files, sensor_files, google_files, gps_files):\n",
    "        print(w)\n",
    "        path = []\n",
    "        lines = open(w).readlines()       \n",
    "        for i in range(3,len(lines)):\n",
    "            ts, readings = lines[i].split(maxsplit=1)\n",
    "            lines[i] = \"%s wifi %s\" % (ts, readings)\n",
    "                       \n",
    "        lines2 = []\n",
    "        for line in open(s).readlines()[3:]:\n",
    "            line = json.loads(line)\n",
    "            if line[\"type\"] in {1,2,3,4,9}:\n",
    "                lines2.append(\"%d sensor %d %s\" % (line[\"timestamp\"], line[\"type\"], ','.join(map(str, line[\"values\"]))))\n",
    "        \n",
    "        lines3 = []\n",
    "        for line in open(g).readlines()[1:]:\n",
    "            line = json.loads(line)\n",
    "            lines3.append(\"%d google %f,%f,%f\" % (line[\"timestamp\"], line[\"latitude\"], line[\"longitude\"], line[\"accuracy\"]))\n",
    "        \n",
    "        lines4 = []\n",
    "        for line in open(gg).readlines()[1:]:\n",
    "            line = json.loads(line)\n",
    "            lines4.append(\"%d gps %f,%f,%f\" % (line[\"timestamp\"], line[\"latitude\"], line[\"longitude\"], line[\"accuracy\"]))\n",
    "        \n",
    "        points = lines[1].strip().split()\n",
    "        points = [tuple(map(float, p.split(','))) for p in points]\n",
    "        timestamps = list(map(int, lines[2].strip().split()))\n",
    "        lines = list(sorted(lines[3:] + lines2 + lines3 + lines4))\n",
    "        del lines2, lines3, lines4\n",
    "                \n",
    "        i = -1\n",
    "        last_ts = timestamps[0]\n",
    "        sensor_tmp = [[], [], [], [], []]\n",
    "        google_tmp = None\n",
    "        gps_tmp = None\n",
    "        wifi_tmp = None\n",
    "        for idx in range(len(lines)):\n",
    "            ts, stype, *tmp = lines[idx].split()\n",
    "            ts = int(ts)\n",
    "            \n",
    "            if ts > timestamps[i+1]:\n",
    "                i += 1\n",
    "                        \n",
    "            if stype == 'sensor':\n",
    "                if tmp[0] in {'1','2','3','4','9'}:\n",
    "                    sensor_tmp[sensor_lookup[int(tmp[0])]].append((list(map(float, tmp[1].split(',')))  , ts))\n",
    "            elif stype == 'google':\n",
    "                google_tmp = list(map(float, tmp[0].split(',')))\n",
    "            elif stype == 'wifi':\n",
    "                if wifi_tmp is None or len(tmp) > len(wifi_tmp):\n",
    "                    wifi_tmp = tmp\n",
    "            elif stype == 'gps':\n",
    "                gps_tmp = list(map(float, tmp[0].split(',')))\n",
    "                \n",
    "            if ts - last_ts >= window_size:\n",
    "                ## pack all data\n",
    "                ratio = (ts - timestamps[i]) / (timestamps[i+1] - timestamps[i])\n",
    "                loc = (points[i][0]+ratio*(points[i+1][0]-points[i][0]), points[i][1]+ratio*(points[i+1][1]-points[i][1]))\n",
    "                \n",
    "                d = {}\n",
    "                d['timestamp'] = ts\n",
    "                d['loc'] = loc\n",
    "                \n",
    "                if gps_tmp is not None:\n",
    "                    d['gps'] = gps_tmp\n",
    "                \n",
    "                if google_tmp is not None:\n",
    "                    d['google'] = google_tmp\n",
    "                    \n",
    "                if wifi_tmp is not None:\n",
    "                    ap_list, rssi_vec = [], []\n",
    "                    for t in wifi_tmp:\n",
    "                        mac, rssi = t.split(',')\n",
    "                        ap_list.append(mac.lower())\n",
    "                        rssi_vec.append(float(rssi))\n",
    "                    if max(rssi_vec) > -70:\n",
    "                        d['wifi'] = (np.array([rssi_vec]), ap_list)\n",
    "                \n",
    "                for j, k in enumerate(['acc', 'mag', 'heading', 'gyro', 'gravity']):\n",
    "                    if len(sensor_tmp[j]) > 0:\n",
    "                        d[k] = smooth(sensor_tmp[j])\n",
    "                \n",
    "                path.append(d)\n",
    "                sensor_tmp = [[], [], [], [], []]\n",
    "                google_tmp = None\n",
    "                gps_tmp = None\n",
    "                wifi_tmp = None             \n",
    "                last_ts = ts\n",
    "            \n",
    "        paths.append(path)\n",
    "        \n",
    "    return paths\n",
    "\n",
    "def align_grid(sim, locs1, locs2):\n",
    "    tmp = np.zeros(len(locs2))\n",
    "    for loc,s in zip(locs1, sim):\n",
    "        i = get_closest_grid(loc, locs2)\n",
    "        tmp[i] = s\n",
    "    return tmp\n",
    "    \n",
    "\n",
    "def load_mag_model(path):\n",
    "    mag_fp = read_magnetic_fingerprint(os.path.join(path, 'mag_fingerprint.txt'))\n",
    "    mag = MagDTWMatching(mag_fp)\n",
    "    mag_w = np.loadtxt(os.path.join(path, 'mag_weight.txt'))\n",
    "    return mag, mag_w\n",
    "\n",
    "def load_wifi_model(path):\n",
    "    wifi_w = np.loadtxt(os.path.join(path, 'wifi_weight.txt'))\n",
    "    wifi = tf.saved_model.load(path)\n",
    "    return wifi, wifi_w\n",
    "\n",
    "\n",
    "def load_preprocessor(path):\n",
    "    if os.path.exists(os.path.join(path, 'preprocessor')):\n",
    "        with open(os.path.join(path, 'preprocessor'), 'rb') as f:\n",
    "            preprocessor = pickle.load(f)\n",
    "        return preprocessor\n",
    "\n",
    "\n",
    "\n",
    "def location_sim(signal, site, rp_locs):\n",
    "    g = lambda x,loc,accuracy: np.exp(-((x[0]-loc[0])**2 + (x[1]-loc[1])**2) / (2*(accuracy * accuracy / 2.27)))\n",
    "    coord = [signal[0], signal[1], 1]\n",
    "    loc = np.matmul(coord, site.transformation)\n",
    "    return [g(x, loc, signal[2]*site.scale) for x in rp_locs], loc"
   ]
  },
  {
   "cell_type": "code",
   "execution_count": 9,
   "metadata": {},
   "outputs": [],
   "source": [
    "#preprocessor:\n"
   ]
  },
  {
   "cell_type": "code",
   "execution_count": 16,
   "metadata": {},
   "outputs": [
    {
     "ename": "PermissionError",
     "evalue": "[Errno 13] Permission denied: '.'",
     "output_type": "error",
     "traceback": [
      "\u001b[1;31m---------------------------------------------------------------------------\u001b[0m",
      "\u001b[1;31mPermissionError\u001b[0m                           Traceback (most recent call last)",
      "\u001b[1;32m<ipython-input-16-6d51b581d3c3>\u001b[0m in \u001b[0;36m<module>\u001b[1;34m\u001b[0m\n\u001b[0;32m      4\u001b[0m \u001b[0mmap_path\u001b[0m \u001b[1;33m=\u001b[0m \u001b[1;34m'../map/HKUST/HKUSTMap1F.jpg'\u001b[0m\u001b[1;33m\u001b[0m\u001b[1;33m\u001b[0m\u001b[0m\n\u001b[0;32m      5\u001b[0m \u001b[0mpreprocessor\u001b[0m \u001b[1;33m=\u001b[0m \u001b[0mload_preprocessor\u001b[0m\u001b[1;33m(\u001b[0m\u001b[0mos\u001b[0m\u001b[1;33m.\u001b[0m\u001b[0mpath\u001b[0m\u001b[1;33m.\u001b[0m\u001b[0mjoin\u001b[0m\u001b[1;33m(\u001b[0m\u001b[0msite\u001b[0m\u001b[1;33m.\u001b[0m\u001b[0mlog_dir\u001b[0m\u001b[1;33m,\u001b[0m \u001b[1;34m'wifi2'\u001b[0m\u001b[1;33m,\u001b[0m \u001b[1;34m'preprocessor'\u001b[0m\u001b[1;33m)\u001b[0m\u001b[1;33m)\u001b[0m\u001b[1;33m\u001b[0m\u001b[1;33m\u001b[0m\u001b[0m\n\u001b[1;32m----> 6\u001b[1;33m \u001b[0mmag\u001b[0m\u001b[1;33m,\u001b[0m \u001b[0mmag_w\u001b[0m \u001b[1;33m=\u001b[0m \u001b[0mload_mag_model\u001b[0m\u001b[1;33m(\u001b[0m\u001b[0mos\u001b[0m\u001b[1;33m.\u001b[0m\u001b[0mpath\u001b[0m\u001b[1;33m.\u001b[0m\u001b[0mjoin\u001b[0m\u001b[1;33m(\u001b[0m\u001b[0msite\u001b[0m\u001b[1;33m.\u001b[0m\u001b[0mlog_dir\u001b[0m\u001b[1;33m,\u001b[0m \u001b[1;34m'mag'\u001b[0m\u001b[1;33m)\u001b[0m\u001b[1;33m)\u001b[0m\u001b[1;33m\u001b[0m\u001b[1;33m\u001b[0m\u001b[0m\n\u001b[0m\u001b[0;32m      7\u001b[0m \u001b[0mwifi\u001b[0m\u001b[1;33m,\u001b[0m \u001b[0mwifi_w\u001b[0m \u001b[1;33m=\u001b[0m \u001b[0mload_wifi_model\u001b[0m\u001b[1;33m(\u001b[0m\u001b[0mos\u001b[0m\u001b[1;33m.\u001b[0m\u001b[0mpath\u001b[0m\u001b[1;33m.\u001b[0m\u001b[0mjoin\u001b[0m\u001b[1;33m(\u001b[0m\u001b[0msite\u001b[0m\u001b[1;33m.\u001b[0m\u001b[0mlog_dir\u001b[0m\u001b[1;33m,\u001b[0m \u001b[1;34m'wifi2'\u001b[0m\u001b[1;33m)\u001b[0m\u001b[1;33m)\u001b[0m\u001b[1;33m\u001b[0m\u001b[1;33m\u001b[0m\u001b[0m\n\u001b[0;32m      8\u001b[0m \u001b[0mrp_locs\u001b[0m\u001b[1;33m,\u001b[0m \u001b[0mrp_features\u001b[0m \u001b[1;33m=\u001b[0m \u001b[0mread_reference_points\u001b[0m\u001b[1;33m(\u001b[0m\u001b[0mos\u001b[0m\u001b[1;33m.\u001b[0m\u001b[0mpath\u001b[0m\u001b[1;33m.\u001b[0m\u001b[0mjoin\u001b[0m\u001b[1;33m(\u001b[0m\u001b[1;34m'..'\u001b[0m\u001b[1;33m,\u001b[0m \u001b[0msite\u001b[0m\u001b[1;33m.\u001b[0m\u001b[0mmodel_dir\u001b[0m\u001b[1;33m,\u001b[0m \u001b[1;34m'wifi2'\u001b[0m\u001b[1;33m,\u001b[0m \u001b[1;34m'grid.txt'\u001b[0m\u001b[1;33m)\u001b[0m\u001b[1;33m)\u001b[0m\u001b[1;33m\u001b[0m\u001b[1;33m\u001b[0m\u001b[0m\n",
      "\u001b[1;32m<ipython-input-8-bc0b12636c3e>\u001b[0m in \u001b[0;36mload_mag_model\u001b[1;34m(path)\u001b[0m\n\u001b[0;32m    142\u001b[0m \u001b[1;33m\u001b[0m\u001b[0m\n\u001b[0;32m    143\u001b[0m \u001b[1;32mdef\u001b[0m \u001b[0mload_mag_model\u001b[0m\u001b[1;33m(\u001b[0m\u001b[0mpath\u001b[0m\u001b[1;33m)\u001b[0m\u001b[1;33m:\u001b[0m\u001b[1;33m\u001b[0m\u001b[1;33m\u001b[0m\u001b[0m\n\u001b[1;32m--> 144\u001b[1;33m     \u001b[0mmag_fp\u001b[0m \u001b[1;33m=\u001b[0m \u001b[0mread_magnetic_fingerprint\u001b[0m\u001b[1;33m(\u001b[0m\u001b[0mos\u001b[0m\u001b[1;33m.\u001b[0m\u001b[0mpath\u001b[0m\u001b[1;33m.\u001b[0m\u001b[0mjoin\u001b[0m\u001b[1;33m(\u001b[0m\u001b[0mpath\u001b[0m\u001b[1;33m,\u001b[0m \u001b[1;34m'mag_fingerprint.txt'\u001b[0m\u001b[1;33m)\u001b[0m\u001b[1;33m)\u001b[0m\u001b[1;33m\u001b[0m\u001b[1;33m\u001b[0m\u001b[0m\n\u001b[0m\u001b[0;32m    145\u001b[0m     \u001b[0mmag\u001b[0m \u001b[1;33m=\u001b[0m \u001b[0mMagDTWMatching\u001b[0m\u001b[1;33m(\u001b[0m\u001b[0mmag_fp\u001b[0m\u001b[1;33m)\u001b[0m\u001b[1;33m\u001b[0m\u001b[1;33m\u001b[0m\u001b[0m\n\u001b[0;32m    146\u001b[0m     \u001b[0mmag_w\u001b[0m \u001b[1;33m=\u001b[0m \u001b[0mnp\u001b[0m\u001b[1;33m.\u001b[0m\u001b[0mloadtxt\u001b[0m\u001b[1;33m(\u001b[0m\u001b[0mos\u001b[0m\u001b[1;33m.\u001b[0m\u001b[0mpath\u001b[0m\u001b[1;33m.\u001b[0m\u001b[0mjoin\u001b[0m\u001b[1;33m(\u001b[0m\u001b[0mpath\u001b[0m\u001b[1;33m,\u001b[0m \u001b[1;34m'mag_weight.txt'\u001b[0m\u001b[1;33m)\u001b[0m\u001b[1;33m)\u001b[0m\u001b[1;33m\u001b[0m\u001b[1;33m\u001b[0m\u001b[0m\n",
      "\u001b[1;32mD:\\2020 Fall\\COMP4971C\\code (1)\\code\\util\\data_util.py\u001b[0m in \u001b[0;36mread_magnetic_fingerprint\u001b[1;34m(paths)\u001b[0m\n\u001b[0;32m     63\u001b[0m     \u001b[1;32mfor\u001b[0m \u001b[0mpath\u001b[0m \u001b[1;32min\u001b[0m \u001b[0mpaths\u001b[0m\u001b[1;33m:\u001b[0m\u001b[1;33m\u001b[0m\u001b[1;33m\u001b[0m\u001b[0m\n\u001b[0;32m     64\u001b[0m         \u001b[0mlocs\u001b[0m\u001b[1;33m,\u001b[0m \u001b[0mvals\u001b[0m \u001b[1;33m=\u001b[0m \u001b[1;33m[\u001b[0m\u001b[1;33m]\u001b[0m\u001b[1;33m,\u001b[0m \u001b[1;33m[\u001b[0m\u001b[1;33m]\u001b[0m\u001b[1;33m\u001b[0m\u001b[1;33m\u001b[0m\u001b[0m\n\u001b[1;32m---> 65\u001b[1;33m         \u001b[1;32mwith\u001b[0m \u001b[0mopen\u001b[0m\u001b[1;33m(\u001b[0m\u001b[0mpath\u001b[0m\u001b[1;33m,\u001b[0m \u001b[1;34m'r'\u001b[0m\u001b[1;33m)\u001b[0m \u001b[1;32mas\u001b[0m \u001b[0mf\u001b[0m\u001b[1;33m:\u001b[0m\u001b[1;33m\u001b[0m\u001b[1;33m\u001b[0m\u001b[0m\n\u001b[0m\u001b[0;32m     66\u001b[0m             \u001b[0mlines\u001b[0m \u001b[1;33m=\u001b[0m \u001b[1;33m[\u001b[0m\u001b[0mx\u001b[0m\u001b[1;33m.\u001b[0m\u001b[0mstrip\u001b[0m\u001b[1;33m(\u001b[0m\u001b[1;33m)\u001b[0m \u001b[1;32mfor\u001b[0m \u001b[0mx\u001b[0m \u001b[1;32min\u001b[0m \u001b[0mf\u001b[0m\u001b[1;33m.\u001b[0m\u001b[0mreadlines\u001b[0m\u001b[1;33m(\u001b[0m\u001b[1;33m)\u001b[0m\u001b[1;33m]\u001b[0m\u001b[1;33m\u001b[0m\u001b[1;33m\u001b[0m\u001b[0m\n\u001b[0;32m     67\u001b[0m \u001b[1;33m\u001b[0m\u001b[0m\n",
      "\u001b[1;31mPermissionError\u001b[0m: [Errno 13] Permission denied: '.'"
     ]
    }
   ],
   "source": [
    "gridsize = 20\n",
    "site = LTA()\n",
    "map_constraints = site.in_constraints, site.out_constraints\n",
    "map_path = '../map/HKUST/HKUSTMap1F.jpg'\n",
    "preprocessor = load_preprocessor(os.path.join(site.log_dir, 'wifi2', 'preprocessor'))\n",
    "mag, mag_w = load_mag_model(os.path.join(site.log_dir, 'mag'))\n",
    "wifi, wifi_w = load_wifi_model(os.path.join(site.log_dir, 'wifi2'))\n",
    "rp_locs, rp_features = read_reference_points(os.path.join('..', site.model_dir, 'wifi2', 'grid.txt'))\n",
    "out_locs = []#generate_filled_grid([([2070, 2400, 2400, 2070], [1900, 1900, 2300, 2300])], gridsize)\n",
    "# area_locs = rp_locs + out_locs\n",
    "area_locs = rp_locs\n",
    "wifi_w = np.hstack((wifi_w, np.ones(len(out_locs))))\n",
    "mag_w = np.hstack((mag_w, np.ones(len(out_locs))))\n",
    "rps = wifi.predict(rp_features)"
   ]
  },
  {
   "cell_type": "code",
   "execution_count": 13,
   "metadata": {},
   "outputs": [
    {
     "data": {
      "text/plain": [
       "0"
      ]
     },
     "execution_count": 13,
     "metadata": {},
     "output_type": "execute_result"
    }
   ],
   "source": [
    "idx = 0\n",
    "data = readData(os.path.join('..', site.dataset_dir))\n",
    "ins_data = readInsData(os.path.join('..', site.dataset_dir))\n",
    "len(data)"
   ]
  },
  {
   "cell_type": "code",
   "execution_count": 17,
   "metadata": {},
   "outputs": [
    {
     "ename": "NameError",
     "evalue": "name 'area_locs' is not defined",
     "output_type": "error",
     "traceback": [
      "\u001b[1;31m---------------------------------------------------------------------------\u001b[0m",
      "\u001b[1;31mNameError\u001b[0m                                 Traceback (most recent call last)",
      "\u001b[1;32m<ipython-input-17-966c45abe75c>\u001b[0m in \u001b[0;36m<module>\u001b[1;34m\u001b[0m\n\u001b[0;32m      2\u001b[0m \u001b[1;33m\u001b[0m\u001b[0m\n\u001b[0;32m      3\u001b[0m \u001b[0mN\u001b[0m \u001b[1;33m=\u001b[0m \u001b[1;36m1000\u001b[0m\u001b[1;33m\u001b[0m\u001b[1;33m\u001b[0m\u001b[0m\n\u001b[1;32m----> 4\u001b[1;33m \u001b[0mpf\u001b[0m \u001b[1;33m=\u001b[0m \u001b[0mParticleFilter\u001b[0m\u001b[1;33m(\u001b[0m\u001b[0mN\u001b[0m\u001b[1;33m,\u001b[0m \u001b[0marea_locs\u001b[0m\u001b[1;33m,\u001b[0m \u001b[0mmap_constraints\u001b[0m\u001b[1;33m)\u001b[0m\u001b[1;33m\u001b[0m\u001b[1;33m\u001b[0m\u001b[0m\n\u001b[0m\u001b[0;32m      5\u001b[0m \u001b[0mpdr\u001b[0m \u001b[1;33m=\u001b[0m \u001b[0mPDR\u001b[0m\u001b[1;33m(\u001b[0m\u001b[1;33m)\u001b[0m\u001b[1;33m\u001b[0m\u001b[1;33m\u001b[0m\u001b[0m\n\u001b[0;32m      6\u001b[0m \u001b[0mfig\u001b[0m \u001b[1;33m=\u001b[0m \u001b[0mplt\u001b[0m\u001b[1;33m.\u001b[0m\u001b[0mfigure\u001b[0m\u001b[1;33m(\u001b[0m\u001b[1;33m)\u001b[0m\u001b[1;33m\u001b[0m\u001b[1;33m\u001b[0m\u001b[0m\n",
      "\u001b[1;31mNameError\u001b[0m: name 'area_locs' is not defined"
     ]
    }
   ],
   "source": [
    "%matplotlib widget\n",
    "\n",
    "N = 1000\n",
    "pf = ParticleFilter(N, area_locs, map_constraints)\n",
    "pdr = PDR()\n",
    "fig = plt.figure()\n",
    "im = plt.imread(map_path)\n",
    "plt.imshow(im)\n",
    "# plt.xlim(4000, 6000)\n",
    "# plt.ylim(2200,1500)\n",
    "scat = plt.scatter(pf.particles[:,0], pf.particles[:,1], s=3)\n",
    "curr = plt.scatter(0,0, s=5, c='r')\n",
    "truth = plt.scatter(0,0, s=5, c='lightgreen')\n",
    "plt.show()"
   ]
  },
  {
   "cell_type": "code",
   "execution_count": 7,
   "metadata": {},
   "outputs": [],
   "source": [
    "lastLoc = data[idx][0]['loc']\n",
    "mag_seq, mag_tmp = [], []\n",
    "i = 0"
   ]
  },
  {
   "cell_type": "code",
   "execution_count": 8,
   "metadata": {},
   "outputs": [
    {
     "name": "stdout",
     "output_type": "stream",
     "text": [
      "1572524933104 4.685898034298122 1\n",
      "wifi\n",
      "mag\n",
      "google\n",
      "96.17325858316872 [4404.21269359 1722.49475288] (4408.559739743152, 1677.7304539520826) 3.3731155309911345\n"
     ]
    }
   ],
   "source": [
    "d = data[idx][i]\n",
    "loc = d['loc']\n",
    "\n",
    "dl = pdr.get_travel_distance(d['acc'])\n",
    "dh = pdr.get_heading_change(d['heading'])\n",
    "print(d['timestamp'], dh, pdr.total_step)\n",
    "\n",
    "pf.predict(dh, dl)\n",
    "scat.set_offsets(pf.particles[:,:2])\n",
    "\n",
    "sim = np.ones(len(area_locs))\n",
    "if 'wifi' in d:\n",
    "    print('wifi')\n",
    "    wifi_feature = preprocessor.preprocess(*d['wifi']).astype(np.float32)\n",
    "    wifi_sim = np.exp(-tf.norm(rps - wifi.predict(wifi_feature), axis=1) ** 2/50)\n",
    "    wifi_sim = align_grid(wifi_sim, rp_locs, area_locs)\n",
    "    sim *= wifi_sim\n",
    "#     wifi_sim = wifi.compute_similarity(tf.constant(rp_features), tf.cast(tf.tile(wifi_feature, [len(rp_features),1]), tf.float32)).numpy()\n",
    "\n",
    "if 'mag' in d:\n",
    "    print('mag')\n",
    "    mag_seq = (mag_seq + np.linalg.norm(d['mag'], axis=1).tolist())[-100:]\n",
    "    mag_sim = mag.predict(mag_seq, rp_locs, lastLoc)\n",
    "    mag_sim = align_grid(mag_sim, rp_locs, area_locs)\n",
    "    sim *= mag_sim\n",
    "\n",
    "if 'google' in d:\n",
    "    print('google')\n",
    "    google_sim, _ = location_sim(d['google'], site, area_locs)\n",
    "    sim *= google_sim\n",
    "    \n",
    "if 'gps' in d:\n",
    "    print('gps')\n",
    "    gps_sim, _ = location_sim(d['gps'], site, area_locs)\n",
    "    sim *= gps_sim\n",
    "\n",
    "\n",
    "pf.update(sim)\n",
    "lastLoc = pf.estimate()\n",
    "print(pf.neff(), lastLoc, loc, distance(lastLoc, loc)*3/40)\n",
    "curr.set_offsets(lastLoc)\n",
    "truth.set_offsets(loc)\n",
    "\n",
    "if pf.neff() < N / 2:\n",
    "    pf.resample()\n",
    "\n",
    "i += 1"
   ]
  },
  {
   "cell_type": "code",
   "execution_count": 8,
   "metadata": {},
   "outputs": [],
   "source": [
    "idx = 0\n",
    "ttt = 999\n",
    "p = 1\n",
    "sigma_w = 5\n",
    "sigma_m = 1e4\n",
    "distanceRange = 120"
   ]
  },
  {
   "cell_type": "code",
   "execution_count": null,
   "metadata": {},
   "outputs": [],
   "source": [
    "N=1000\n",
    "pf = ParticleFilter(N, area_locs, map_constraints)\n",
    "pdr = PDR()\n",
    "results_sifu = np.empty((0,4))\n",
    "results_time = []\n",
    "timestamps1 = []\n",
    "lastLoc = data[idx][0]['loc']\n",
    "mag_seq = []\n",
    "\n",
    "\n",
    "for i in range(len(data[idx])):\n",
    "    d = data[idx][i]\n",
    "    loc = d['loc']\n",
    "    start_time = time.time()\n",
    "    \n",
    "    dl = pdr.get_travel_distance(d['acc'])\n",
    "    dh = pdr.get_heading_change(d['heading'])\n",
    "#     print(ts, dl, dh, pdr.total_step)\n",
    "    pf.predict(dh, dl)\n",
    "    scat.set_offsets(pf.particles[:,:2])\n",
    "    \n",
    "    sim = np.ones(len(area_locs))\n",
    "    if 'wifi' in d and i < ttt and i % p == 0:\n",
    "#         print('wifi')\n",
    "        wifi_feature = preprocessor.preprocess(*d['wifi']).astype(np.float32)\n",
    "        wifi_sim = np.exp(-tf.norm(rps - wifi.predict(wifi_feature), axis=1) ** 2/(2*sigma_w*sigma_w))\n",
    "        wifi_sim = np.hstack((wifi_sim, np.zeros(len(out_locs))))\n",
    "#         wifi_sim = align_grid(wifi_sim, rp_locs, area_locs)\n",
    "        sim *= wifi_sim ** wifi_w     \n",
    "\n",
    "    if 'mag' in d and i < ttt:\n",
    "        #         print('mag')\n",
    "        mag_seq = (mag_seq + np.linalg.norm(d['mag'], axis=1).tolist())[-100:]\n",
    "        mag_sim = mag.predict(mag_seq, area_locs, lastLoc, sigma=sigma_m, distanceRange=distanceRange)\n",
    "#         mag_sim = align_grid(mag_sim, rp_locs, area_locs)\n",
    "        sim *= mag_sim  ** mag_w\n",
    "\n",
    "    if 'google' in d:\n",
    "#         print('google')\n",
    "        google_sim, g_loc = location_sim(d['google'], site, area_locs)   \n",
    "#         print(g_loc)\n",
    "        sim *= google_sim\n",
    "        \n",
    "    if 'gps' in d:\n",
    "#         print('gps')\n",
    "        gps_sim, _ = location_sim(d['gps'], site, area_locs)\n",
    "        sim *= gps_sim\n",
    "    \n",
    "    pf.update(sim) \n",
    "    lastLoc = pf.estimate()\n",
    "    print(lastLoc, loc, distance(lastLoc, loc)*3/40)\n",
    "\n",
    "    results_time.append(time.time() - start_time)  \n",
    "    timestamps1.append(d['timestamp'])\n",
    "    results_sifu = np.vstack([results_sifu, [lastLoc[0], lastLoc[1], loc[0], loc[1]]])    \n",
    "    curr.set_offsets(lastLoc)\n",
    "    truth.set_offsets(loc)\n",
    "    \n",
    "    if pf.neff() < N/2:\n",
    "#         print(pf.neff())\n",
    "        pf.resample()\n"
   ]
  },
  {
   "cell_type": "code",
   "execution_count": 82,
   "metadata": {},
   "outputs": [],
   "source": [
    "N=1000\n",
    "pf = ParticleFilter(N, area_locs, map_constraints)\n",
    "pdr = PDR()\n",
    "results_naive = np.empty((0,4))\n",
    "results_wifi = np.empty((0,4))\n",
    "results_fsw = np.empty((0,4))\n",
    "results_google = np.empty((0,4))\n",
    "timestamps = []\n",
    "lastLoc = data[idx][0]['loc']\n",
    "g_loc = None\n",
    "mag_seq = []\n",
    "\n",
    "for i in range(len(data[idx])):\n",
    "    d = data[idx][i]\n",
    "    loc = d['loc']\n",
    "    start_time = time.time()\n",
    "    \n",
    "    dl = pdr.get_travel_distance(d['acc'])\n",
    "    dh = pdr.get_heading_change(d['heading'])\n",
    "#     print(ts, dl, dh, pdr.total_step)\n",
    "    pf.predict(dh, dl)\n",
    "    scat.set_offsets(pf.particles[:,:2])\n",
    "    \n",
    "    sim = np.ones(len(area_locs))\n",
    "    if 'wifi' in d and i < ttt and i % p == 0:\n",
    "#         print('wifi')\n",
    "        wifi_feature = preprocessor.preprocess(*d['wifi']).astype(np.float32)\n",
    "        wifi_sim = np.exp(-tf.norm(rps - wifi.predict(wifi_feature), axis=1) ** 2/(2*sigma_w*sigma_w))\n",
    "        wifi_sim = np.hstack((wifi_sim, np.zeros(len(out_locs))))\n",
    "#         wifi_sim = align_grid(wifi_sim, rp_locs, area_locs)\n",
    "        sim *= wifi_sim        \n",
    "\n",
    "    if 'mag' in d and i < ttt:\n",
    "        #         print('mag')\n",
    "        mag_seq = (mag_seq + np.linalg.norm(d['mag'], axis=1).tolist())[-100:]\n",
    "        mag_sim = mag.predict(mag_seq, area_locs, lastLoc, sigma=sigma_m, distanceRange=distanceRange)\n",
    "#         mag_sim = align_grid(mag_sim, rp_locs, area_locs)\n",
    "        sim *= mag_sim\n",
    "\n",
    "    if 'google' in d:\n",
    "#         print('google')\n",
    "        google_sim, g_loc = location_sim(d['google'], site, area_locs)   \n",
    "#         print(g_loc)\n",
    "        sim *= google_sim\n",
    "        \n",
    "    if 'gps' in d:\n",
    "#         print('gps')\n",
    "        gps_sim, _ = location_sim(d['gps'], site, area_locs)\n",
    "        sim *= gps_sim\n",
    "    \n",
    "    pf.update(sim) \n",
    "    lastLoc = pf.estimate()\n",
    "#     print(lastLoc, loc, distance(lastLoc, loc)*3/40)\n",
    "    \n",
    "    results_naive = np.vstack([results_naive, [lastLoc[0], lastLoc[1], loc[0], loc[1]]])    \n",
    "    curr.set_offsets(lastLoc)\n",
    "    truth.set_offsets(loc)\n",
    "    \n",
    "    if i < ttt:\n",
    "        pred2 = rp_locs[wifi_sim.argmax()]\n",
    "        results_wifi = np.vstack([results_wifi, [pred2[0], pred2[1], loc[0], loc[1]]]) \n",
    "        pred2 = rp_locs[(mag_sim*wifi_sim).argmax()]\n",
    "        results_fsw = np.vstack([results_fsw, [pred2[0], pred2[1], loc[0], loc[1]]]) \n",
    "        timestamps.append(d['timestamp'])\n",
    "    if g_loc is not None:\n",
    "        results_google = np.vstack([results_google, [g_loc[0], g_loc[1], loc[0], loc[1]]])\n",
    "    else:\n",
    "        results_google = np.vstack([results_google, [-1, -1, loc[0], loc[1]]])\n",
    "\n",
    "    if pf.neff() < N/2:\n",
    "#         print(pf.neff())\n",
    "        pf.resample()\n"
   ]
  },
  {
   "cell_type": "code",
   "execution_count": 84,
   "metadata": {},
   "outputs": [
    {
     "name": "stdout",
     "output_type": "stream",
     "text": [
      "4.45856394817217 7.643980243371604 6.489896217710062 5.053522512608893 7.2389065268240955 0.6218734293273\n"
     ]
    },
    {
     "data": {
      "application/vnd.jupyter.widget-view+json": {
       "model_id": "54040a4478d04905b55ff7cdadd32fa6",
       "version_major": 2,
       "version_minor": 0
      },
      "text/plain": [
       "Canvas(toolbar=Toolbar(toolitems=[('Home', 'Reset original view', 'home', 'home'), ('Back', 'Back to previous …"
      ]
     },
     "metadata": {},
     "output_type": "display_data"
    }
   ],
   "source": [
    "x1 = list(sorted([distance(xx[0:2], xx[2:4])*3/40 for xx in results_sifu[:]]))\n",
    "y1 = np.cumsum(x1) / sum(x1)\n",
    "x2 = list(sorted([distance(xx[0:2], xx[2:4])*3/40 for xx in results_wifi[:]]))\n",
    "y2 = np.cumsum(x2) / sum(x2)\n",
    "x3 = list(sorted([distance(xx[0:2], xx[2:4])*3/40 for xx in results_fsw[:]]))\n",
    "y3 = np.cumsum(x3) / sum(x3)\n",
    "x4 = list(sorted([distance(xx[0:2], xx[2:4])*3/40 for xx in results_naive[:]]))\n",
    "y4 = np.cumsum(x4) / sum(x4)\n",
    "x5 = list(sorted([distance(xx[0:2], xx[2:4])*3/40 for xx in results_google]))\n",
    "y5 = np.cumsum(x5) / sum(x5)\n",
    "\n",
    "print(np.mean(x1), np.mean(x2), np.mean(x3), np.mean(x4), np.mean(x5), np.mean(results_time))\n",
    "%matplotlib widget\n",
    "fig, ax = plt.subplots()\n",
    "plt.plot(x1,y1, 'k-', label='SiFu')\n",
    "plt.plot(x2,y2, 'r--', label='WiDeep')\n",
    "plt.plot(x3,y3, 'g-.', label='FSW')\n",
    "plt.plot(x4,y4, 'b:', label='Naive')\n",
    "plt.plot(x5,y5, 'c:', label='Google')\n",
    "plt.grid(b=True, which='major', color='#dddddd', linestyle='-')\n",
    "\n",
    "handles,labels = ax.get_legend_handles_labels()\n",
    "handles = [handles[0], handles[3], handles[2], handles[1], handles[4]]\n",
    "labels = [labels[0], labels[3], labels[2], labels[1], labels[4]]\n",
    "\n",
    "plt.ylabel('Cumulative Probability')\n",
    "plt.xlabel('Localization Error (m)')\n",
    "plt.xlim(0,12)\n",
    "plt.ylim(0,1)\n",
    "plt.legend(handles, labels)\n",
    "plt.show()"
   ]
  },
  {
   "cell_type": "code",
   "execution_count": 14,
   "metadata": {},
   "outputs": [
    {
     "ename": "NameError",
     "evalue": "name 'timestamps' is not defined",
     "output_type": "error",
     "traceback": [
      "\u001b[0;31m---------------------------------------------------------------------------\u001b[0m",
      "\u001b[0;31mNameError\u001b[0m                                 Traceback (most recent call last)",
      "\u001b[0;32m<ipython-input-14-64a0b803970e>\u001b[0m in \u001b[0;36m<module>\u001b[0;34m\u001b[0m\n\u001b[0;32m----> 1\u001b[0;31m \u001b[0mtimes\u001b[0m \u001b[0;34m=\u001b[0m \u001b[0;34m(\u001b[0m\u001b[0mnp\u001b[0m\u001b[0;34m.\u001b[0m\u001b[0marray\u001b[0m\u001b[0;34m(\u001b[0m\u001b[0mtimestamps\u001b[0m\u001b[0;34m)\u001b[0m \u001b[0;34m-\u001b[0m \u001b[0mtimestamps\u001b[0m\u001b[0;34m[\u001b[0m\u001b[0;36m0\u001b[0m\u001b[0;34m]\u001b[0m\u001b[0;34m)\u001b[0m \u001b[0;34m/\u001b[0m \u001b[0;36m1000\u001b[0m\u001b[0;34m\u001b[0m\u001b[0;34m\u001b[0m\u001b[0m\n\u001b[0m\u001b[1;32m      2\u001b[0m \u001b[0mtimes1\u001b[0m \u001b[0;34m=\u001b[0m \u001b[0;34m(\u001b[0m\u001b[0mnp\u001b[0m\u001b[0;34m.\u001b[0m\u001b[0marray\u001b[0m\u001b[0;34m(\u001b[0m\u001b[0mtimestamps1\u001b[0m\u001b[0;34m)\u001b[0m \u001b[0;34m-\u001b[0m \u001b[0mtimestamps\u001b[0m\u001b[0;34m[\u001b[0m\u001b[0;36m0\u001b[0m\u001b[0;34m]\u001b[0m\u001b[0;34m)\u001b[0m \u001b[0;34m/\u001b[0m \u001b[0;36m1000\u001b[0m\u001b[0;34m\u001b[0m\u001b[0;34m\u001b[0m\u001b[0m\n\u001b[1;32m      3\u001b[0m \u001b[0;34m\u001b[0m\u001b[0m\n\u001b[1;32m      4\u001b[0m \u001b[0mplt\u001b[0m\u001b[0;34m.\u001b[0m\u001b[0mfigure\u001b[0m\u001b[0;34m(\u001b[0m\u001b[0mfigsize\u001b[0m\u001b[0;34m=\u001b[0m\u001b[0;34m(\u001b[0m\u001b[0;36m10\u001b[0m\u001b[0;34m,\u001b[0m\u001b[0;36m5\u001b[0m\u001b[0;34m)\u001b[0m\u001b[0;34m)\u001b[0m\u001b[0;34m\u001b[0m\u001b[0;34m\u001b[0m\u001b[0m\n\u001b[1;32m      5\u001b[0m \u001b[0mplt\u001b[0m\u001b[0;34m.\u001b[0m\u001b[0mplot\u001b[0m\u001b[0;34m(\u001b[0m\u001b[0mtimes1\u001b[0m\u001b[0;34m,\u001b[0m \u001b[0;34m[\u001b[0m\u001b[0mdistance\u001b[0m\u001b[0;34m(\u001b[0m\u001b[0mxx\u001b[0m\u001b[0;34m[\u001b[0m\u001b[0;36m0\u001b[0m\u001b[0;34m:\u001b[0m\u001b[0;36m2\u001b[0m\u001b[0;34m]\u001b[0m\u001b[0;34m,\u001b[0m \u001b[0mxx\u001b[0m\u001b[0;34m[\u001b[0m\u001b[0;36m2\u001b[0m\u001b[0;34m:\u001b[0m\u001b[0;36m4\u001b[0m\u001b[0;34m]\u001b[0m\u001b[0;34m)\u001b[0m\u001b[0;34m*\u001b[0m\u001b[0;36m3\u001b[0m\u001b[0;34m/\u001b[0m\u001b[0;36m40\u001b[0m \u001b[0;32mfor\u001b[0m \u001b[0mxx\u001b[0m \u001b[0;32min\u001b[0m \u001b[0mresults_sifu\u001b[0m\u001b[0;34m[\u001b[0m\u001b[0;34m:\u001b[0m\u001b[0;34m]\u001b[0m\u001b[0;34m]\u001b[0m\u001b[0;34m,\u001b[0m \u001b[0;34m'k-'\u001b[0m\u001b[0;34m,\u001b[0m \u001b[0mlabel\u001b[0m\u001b[0;34m=\u001b[0m\u001b[0;34m'SiFu'\u001b[0m\u001b[0;34m)\u001b[0m\u001b[0;34m\u001b[0m\u001b[0;34m\u001b[0m\u001b[0m\n",
      "\u001b[0;31mNameError\u001b[0m: name 'timestamps' is not defined"
     ]
    }
   ],
   "source": [
    "times = (np.array(timestamps) - timestamps[0]) / 1000\n",
    "times1 = (np.array(timestamps1) - timestamps[0]) / 1000\n",
    "\n",
    "plt.figure(figsize=(10,5))\n",
    "plt.plot(times1, [distance(xx[0:2], xx[2:4])*3/40 for xx in results_sifu[:]], 'k-', label='SiFu')\n",
    "plt.plot(times, [distance(xx[0:2], xx[2:4])*3/40 for xx in results_wifi[:]], 'r--', label='WiDeep')\n",
    "plt.plot(times, [distance(xx[0:2], xx[2:4])*3/40 for xx in results_fsw[:]], 'g-.', label='FSW')\n",
    "plt.plot(times1, [distance(xx[0:2], xx[2:4])*3/40 for xx in results_naive[:]], 'b:', label='Naive')\n",
    "plt.plot(times1, [distance(xx[0:2], xx[2:4])*3/40 for xx in results_google[:]], 'c:', label='Google')\n",
    "plt.grid(b=True, which='major', color='#dddddd', linestyle='-')\n",
    "\n",
    "handles,labels = ax.get_legend_handles_labels()\n",
    "handles = [handles[4], handles[1], handles[2], handles[3], handles[0]]\n",
    "labels = [labels[4], labels[1], labels[2], labels[3], labels[0]]\n",
    "\n",
    "plt.ylabel('Localization Error (m)')\n",
    "plt.xlabel('Time (s)')\n",
    "plt.xlim(0, max(times1))\n",
    "plt.ylim(0)\n",
    "plt.legend(handles, labels)\n",
    "plt.show()"
   ]
  },
  {
   "cell_type": "code",
   "execution_count": 13,
   "metadata": {},
   "outputs": [
    {
     "data": {
      "application/vnd.jupyter.widget-view+json": {
       "model_id": "1a62c6d2be81454c9e8d960e60bbb062",
       "version_major": 2,
       "version_minor": 0
      },
      "text/plain": [
       "Canvas(toolbar=Toolbar(toolitems=[('Home', 'Reset original view', 'home', 'home'), ('Back', 'Back to previous …"
      ]
     },
     "metadata": {},
     "output_type": "display_data"
    }
   ],
   "source": [
    "%matplotlib widget\n",
    "\n",
    "x1,x2,y1,y2 = 2810,3700,1350,1600\n",
    "x1,x2,y1,y2 = 4200,5700,1500,2100\n",
    "# x1,x2,y1,y2 = 1800, 2800, 1000, 2500\n",
    "\n",
    "# plt.figure(figsize=(20,10))\n",
    "im = plt.imread(map_path)[y1:y2,x1:x2]\n",
    "plt.imshow(im)\n",
    "plt.plot(results_sifu[:,2]-x1, results_sifu[:,3]-y1, lw=1)\n",
    "plt.plot(results_sifu[:,0]-x1, results_sifu[:,1]-y1, lw=1)\n",
    "\n",
    "plt.show()\n",
    "plt.savefig('../../results/test.jpg', dpi=300)"
   ]
  },
  {
   "cell_type": "code",
   "execution_count": null,
   "metadata": {},
   "outputs": [],
   "source": []
  },
  {
   "cell_type": "code",
   "execution_count": null,
   "metadata": {},
   "outputs": [],
   "source": []
  },
  {
   "cell_type": "code",
   "execution_count": 203,
   "metadata": {},
   "outputs": [
    {
     "data": {
      "application/vnd.jupyter.widget-view+json": {
       "model_id": "",
       "version_major": 2,
       "version_minor": 0
      },
      "text/plain": [
       "Canvas(toolbar=Toolbar(toolitems=[('Home', 'Reset original view', 'home', 'home'), ('Back', 'Back to previous …"
      ]
     },
     "metadata": {},
     "output_type": "display_data"
    },
    {
     "name": "stdout",
     "output_type": "stream",
     "text": [
      "0.7990204165779999 0.0\n"
     ]
    }
   ],
   "source": [
    "fig, ax = plt.subplots()\n",
    "im = plt.imread(map_path)\n",
    "ax.imshow(im)\n",
    "heatmap = np.zeros(im.shape[:2])\n",
    "s = sim\n",
    "for ss, loc in zip(s, rp_locs):\n",
    "    x, y = loc\n",
    "    heatmap[int(y-gridsize/2):int(y+gridsize/2), int(x-gridsize/2):int(x+gridsize/2)] = ss\n",
    "\n",
    "heatmap = np.ma.masked_where(heatmap == 0, heatmap)\n",
    "ax.imshow(heatmap)\n",
    "fig.show()\n",
    "\n",
    "print(max(s), min(s))"
   ]
  },
  {
   "cell_type": "code",
   "execution_count": null,
   "metadata": {},
   "outputs": [],
   "source": [
    "for a,b in zip(sim, rp_locs):\n",
    "    if a > 0.5:\n",
    "        print(a,b)"
   ]
  },
  {
   "cell_type": "code",
   "execution_count": null,
   "metadata": {},
   "outputs": [],
   "source": []
  },
  {
   "cell_type": "code",
   "execution_count": 6,
   "metadata": {},
   "outputs": [
    {
     "data": {
      "application/vnd.jupyter.widget-view+json": {
       "model_id": "786453ef50444f7b94fec9ec9d8b72de",
       "version_major": 2,
       "version_minor": 0
      },
      "text/plain": [
       "Canvas(toolbar=Toolbar(toolitems=[('Home', 'Reset original view', 'home', 'home'), ('Back', 'Back to previous …"
      ]
     },
     "metadata": {},
     "output_type": "display_data"
    },
    {
     "name": "stdout",
     "output_type": "stream",
     "text": [
      "(27, 969)\n"
     ]
    }
   ],
   "source": [
    "# %matplotlib inline\n",
    "%matplotlib widget\n",
    "\n",
    "pdr = PDR()\n",
    "# acc = [np.mean(d['acc'][i*len(d['acc'])//2: (i+1)*len(d['acc'])//2],0) for _,_,d in data[idx] for i in range(2)]\n",
    "acc = [x for d in data[idx] for x in d['acc']]\n",
    "# acc = [[-1.1707647, 3.6750996, 8.485051], [-0.48602295, 3.9336734, 9.816227], [-0.35673606, 1.3934253, 5.707777], [-1.3335704, 2.9999347, 8.774749], [-7.7787614, 10.702082, -5.777209], [-0.260968, 3.6607344, 8.568848], [-0.533907, 4.4244847, 8.166622], [-0.82360536, 2.1452048, 10.840945], [-1.6998832, 2.9592333, 8.748413], [-1.3239936, 3.0597897, 7.8290396], [-0.05746084, 3.5122938, 6.8929067], [0.02633622, 5.0661306, 11.092337], [-1.2354081, 1.7741034, 10.007763], [-0.5243302, 3.2130187, 11.389217], [-0.32321724, 4.402937, 9.466674], [0.9840169, 3.2393548, 11.152191], [-0.50038815, 3.359065, 2.6312277], [-0.39983168, 4.4723687, 7.1490865], [-0.9959879, 5.08289, 10.04607], [-2.3175871, 1.8698715, 10.635044], [-0.08379706, 3.8618474, 5.985504], [-0.7757214, 4.644751, 7.45315], [-1.1013328, 5.12838, 10.730812], [-0.5482722, 2.2050598, 8.738836]]\n",
    "# acc = np.linalg.norm(acc, axis=1)\n",
    "acc = pdr._butter_lowpass_filter(acc, 2,20,2)\n",
    "# acc = pdr._low_pass_filter(acc)\n",
    "acc = acc[0:1000, 2]\n",
    "plt.figure(figsize=(10,5))\n",
    "plt.plot(np.arange(0,len(acc)), acc)\n",
    "print(pdr._count_step(acc,H=9.5,W=5,D=20))"
   ]
  },
  {
   "cell_type": "code",
   "execution_count": 7,
   "metadata": {},
   "outputs": [
    {
     "name": "stdout",
     "output_type": "stream",
     "text": [
      "0.5316555699225248\n",
      "0.5035577877261131\n",
      "0.5025045709361526\n",
      "0.5418907012275239\n",
      "0.596271315319443\n",
      "0.5813091707383417\n",
      "0.5629284342018848\n",
      "0.5418951340843262\n",
      "0.5461524409301379\n",
      "0.5461524409301379\n",
      "0.510916086483273\n",
      "0.5125310733415674\n",
      "0.5157164574989275\n",
      "0.525094565256678\n",
      "0.5570549799718314\n",
      "0.5717635140846608\n",
      "0.5717635140846608\n",
      "0.5748344587651724\n",
      "0.5564894143023602\n",
      "0.5674045699248275\n",
      "0.5616567788625055\n",
      "0.5453148600473636\n",
      "0.5499323573998284\n",
      "0.5499323573998284\n",
      "0.5324749254104486\n",
      "0.510464157765357\n",
      "0.5952765403254276\n",
      "0.5994304488860831\n",
      "0.5904058556095457\n",
      "0.5832719888769778\n",
      "0.5807243535712534\n",
      "0.5756560347796084\n",
      "0.5766689932083053\n",
      "0.5771696734806607\n",
      "0.5771696734806607\n",
      "0.6187342082576639\n",
      "0.6255927519624582\n",
      "0.6171108856650345\n",
      "0.6171108856650345\n",
      "0.5958882359341008\n",
      "0.6042606172050363\n",
      "0.6260762256400731\n",
      "0.6252224327879774\n",
      "0.5957972190340001\n",
      "0.6475618376588582\n",
      "0.6366062200849184\n",
      "0.6011747249521471\n",
      "0.60817928297189\n",
      "0.6363420472867124\n",
      "0.6367585421602318\n",
      "0.612578486763009\n",
      "0.6099356220126846\n",
      "0.6323942504787277\n",
      "0.6042186600225985\n",
      "0.6042186600225985\n",
      "0.6087754610042935\n",
      "0.6087754610042935\n",
      "0.5943614242279204\n",
      "0.6733619890598914\n",
      "0.6723514876505052\n",
      "0.5903506433614222\n",
      "0.574987404287264\n",
      "0.5688384161718221\n",
      "0.5566412809780202\n",
      "0.5574715017875674\n",
      "0.5584264665907027\n",
      "0.601728132423402\n",
      "0.6022526252673397\n",
      "0.6011275956108467\n",
      "0.5957565853434245\n",
      "0.59786796369733\n",
      "0.6366845917910423\n",
      "0.6154933808918568\n",
      "0.5620857410947573\n",
      "0.5977326133574364\n",
      "0.6447925517455133\n",
      "0.6489159258447774\n",
      "0.6608106261839253\n",
      "0.6608106261839253\n",
      "0.6307920719204432\n",
      "0.6357425766893816\n",
      "0.6442222103940485\n",
      "0.6353050250312621\n",
      "0.6353050250312621\n",
      "0.5807870712366304\n",
      "0.61546235876999\n",
      "0.6347912055369878\n",
      "0.595097014478358\n",
      "0.5877486101426244\n",
      "0.612263566283003\n",
      "0.6305608400848661\n",
      "0.6742116334261543\n",
      "0.6554844387824623\n",
      "0.6023760946745944\n",
      "0.6310897692951805\n",
      "0.6213979461300072\n",
      "0.6003926364718017\n",
      "0.6540320934623892\n",
      "0.637407948545171\n",
      "0.591999982327377\n",
      "0.6089888395234013\n",
      "0.5725558874550684\n",
      "0.5658093008123459\n",
      "0.5414906623378758\n",
      "0.5424650142001083\n",
      "0.5808838827022457\n",
      "0.5808838827022457\n",
      "0.5879732076602733\n",
      "0.5866579025095836\n",
      "0.5957181215248591\n",
      "0.5847987383827149\n",
      "0.5492233786519547\n",
      "0.5509197342705876\n",
      "0.5685719486486853\n",
      "0.5773055176647661\n",
      "0.5801689414227539\n",
      "0.5760040233807404\n",
      "0.5888423036071256\n",
      "0.5449798460154844\n",
      "0.5614764366106887\n",
      "0.5562195909002569\n",
      "0.5289484410231337\n"
     ]
    },
    {
     "data": {
      "application/vnd.jupyter.widget-view+json": {
       "model_id": "40c23b120fff45709fc19ed31348ae3a",
       "version_major": 2,
       "version_minor": 0
      },
      "text/plain": [
       "Canvas(toolbar=Toolbar(toolitems=[('Home', 'Reset original view', 'home', 'home'), ('Back', 'Back to previous …"
      ]
     },
     "metadata": {},
     "output_type": "display_data"
    }
   ],
   "source": [
    "%matplotlib widget\n",
    "\n",
    "idx = 0\n",
    "pdr = PDR()\n",
    "locs = []\n",
    "truths = []\n",
    "# x, y, heading = 4405,1680, np.pi\n",
    "x, y = data[idx][0]['loc']\n",
    "heading = np.pi *0.99\n",
    "for d in data[idx]:\n",
    "    dl = pdr.get_travel_distance(d['acc'])\n",
    "    dh = pdr.get_heading_change(d['heading'])\n",
    "    heading += dh\n",
    "    \n",
    "#     speed = pdr.get_speed(d['acc'], d['mag'], d['gravity'], d['timestamp'])\n",
    "#     print(d['loc'], speed)\n",
    "           \n",
    "    x += np.cos(heading) * dl\n",
    "    y += np.sin(heading) * dl\n",
    "    \n",
    "    locs.append((x,y))\n",
    "    truths.append(d['loc'])\n",
    "\n",
    "im = plt.imread(map_path)\n",
    "plt.imshow(im)\n",
    "plt.scatter(*zip(*locs), s=1)\n",
    "plt.scatter(*zip(*truths), c='r', s=1)\n",
    "plt.show()"
   ]
  },
  {
   "cell_type": "code",
   "execution_count": 56,
   "metadata": {},
   "outputs": [
    {
     "data": {
      "text/plain": [
       "59"
      ]
     },
     "execution_count": 56,
     "metadata": {},
     "output_type": "execute_result"
    }
   ],
   "source": [
    "pdr.total_step"
   ]
  },
  {
   "cell_type": "code",
   "execution_count": 1,
   "metadata": {},
   "outputs": [
    {
     "ename": "NameError",
     "evalue": "name 'plt' is not defined",
     "output_type": "error",
     "traceback": [
      "\u001b[0;31m---------------------------------------------------------------------------\u001b[0m",
      "\u001b[0;31mNameError\u001b[0m                                 Traceback (most recent call last)",
      "\u001b[0;32m<ipython-input-1-7ebdec334cb2>\u001b[0m in \u001b[0;36m<module>\u001b[0;34m\u001b[0m\n\u001b[1;32m      1\u001b[0m \u001b[0mget_ipython\u001b[0m\u001b[0;34m(\u001b[0m\u001b[0;34m)\u001b[0m\u001b[0;34m.\u001b[0m\u001b[0mrun_line_magic\u001b[0m\u001b[0;34m(\u001b[0m\u001b[0;34m'matplotlib'\u001b[0m\u001b[0;34m,\u001b[0m \u001b[0;34m'widget'\u001b[0m\u001b[0;34m)\u001b[0m\u001b[0;34m\u001b[0m\u001b[0;34m\u001b[0m\u001b[0m\n\u001b[1;32m      2\u001b[0m \u001b[0;34m\u001b[0m\u001b[0m\n\u001b[0;32m----> 3\u001b[0;31m \u001b[0mim\u001b[0m \u001b[0;34m=\u001b[0m \u001b[0mplt\u001b[0m\u001b[0;34m.\u001b[0m\u001b[0mimread\u001b[0m\u001b[0;34m(\u001b[0m\u001b[0mmap_path\u001b[0m\u001b[0;34m)\u001b[0m\u001b[0;34m\u001b[0m\u001b[0;34m\u001b[0m\u001b[0m\n\u001b[0m\u001b[1;32m      4\u001b[0m \u001b[0mplt\u001b[0m\u001b[0;34m.\u001b[0m\u001b[0mimshow\u001b[0m\u001b[0;34m(\u001b[0m\u001b[0mim\u001b[0m\u001b[0;34m)\u001b[0m\u001b[0;34m\u001b[0m\u001b[0;34m\u001b[0m\u001b[0m\n\u001b[1;32m      5\u001b[0m \u001b[0;34m\u001b[0m\u001b[0m\n",
      "\u001b[0;31mNameError\u001b[0m: name 'plt' is not defined"
     ]
    }
   ],
   "source": [
    "%matplotlib widget\n",
    "\n",
    "im = plt.imread(map_path)\n",
    "plt.imshow(im)\n",
    "\n",
    "for x1,y1,x2,y2 in site.in_constraints:\n",
    "    plt.plot([x1,x2],[y1,y2], ms=10,c='r')\n",
    "for out_constraint in site.out_constraints:\n",
    "    for x1,y1,x2,y2 in out_constraint:\n",
    "        plt.plot([x1,x2],[y1,y2], ms=10,c='b')\n",
    "plt.show()"
   ]
  },
  {
   "cell_type": "code",
   "execution_count": null,
   "metadata": {},
   "outputs": [],
   "source": []
  },
  {
   "cell_type": "code",
   "execution_count": 63,
   "metadata": {},
   "outputs": [
    {
     "ename": "NameError",
     "evalue": "name 'smooth2' is not defined",
     "output_type": "error",
     "traceback": [
      "\u001b[0;31m---------------------------------------------------------------------------\u001b[0m",
      "\u001b[0;31mNameError\u001b[0m                                 Traceback (most recent call last)",
      "\u001b[0;32m<ipython-input-63-0f9af75f36c9>\u001b[0m in \u001b[0;36m<module>\u001b[0;34m\u001b[0m\n\u001b[1;32m     17\u001b[0m \u001b[0;34m\u001b[0m\u001b[0m\n\u001b[1;32m     18\u001b[0m     \u001b[0;32mif\u001b[0m \u001b[0ms\u001b[0m\u001b[0;34m[\u001b[0m\u001b[0;34m'timestamp'\u001b[0m\u001b[0;34m]\u001b[0m \u001b[0;34m-\u001b[0m \u001b[0mlast_ts\u001b[0m \u001b[0;34m>=\u001b[0m \u001b[0;36m400\u001b[0m\u001b[0;34m:\u001b[0m\u001b[0;34m\u001b[0m\u001b[0;34m\u001b[0m\u001b[0m\n\u001b[0;32m---> 19\u001b[0;31m         \u001b[0mdl\u001b[0m \u001b[0;34m=\u001b[0m \u001b[0mpdr\u001b[0m\u001b[0;34m.\u001b[0m\u001b[0mget_travel_distance\u001b[0m\u001b[0;34m(\u001b[0m\u001b[0msmooth2\u001b[0m\u001b[0;34m(\u001b[0m\u001b[0msignals\u001b[0m\u001b[0;34m[\u001b[0m\u001b[0;36m0\u001b[0m\u001b[0;34m]\u001b[0m\u001b[0;34m)\u001b[0m\u001b[0;34m)\u001b[0m\u001b[0;34m\u001b[0m\u001b[0;34m\u001b[0m\u001b[0m\n\u001b[0m\u001b[1;32m     20\u001b[0m         \u001b[0mseq_orientation\u001b[0m \u001b[0;34m=\u001b[0m \u001b[0mturning_detection\u001b[0m\u001b[0;34m(\u001b[0m\u001b[0;34m*\u001b[0m\u001b[0msignals\u001b[0m\u001b[0;34m)\u001b[0m\u001b[0;34m\u001b[0m\u001b[0;34m\u001b[0m\u001b[0m\n\u001b[1;32m     21\u001b[0m \u001b[0;34m\u001b[0m\u001b[0m\n",
      "\u001b[0;31mNameError\u001b[0m: name 'smooth2' is not defined"
     ]
    }
   ],
   "source": [
    "%matplotlib widget\n",
    "\n",
    "idx = 0\n",
    "signals = [[],[],[],[],[]]\n",
    "signal_lookup = {1:0,2:1,3:2,4:3,9:4}\n",
    "last_ts = ins_data[idx][0]['timestamp']\n",
    "last_h = -1\n",
    "\n",
    "pdr = PDR()\n",
    "locs = []\n",
    "# x, y, heading = 4405,1680, np.pi\n",
    "x, y, heading = 3620,1480, np.pi*0.9\n",
    "\n",
    "for s in ins_data[idx]:\n",
    "    if s['type'] in {1,2,4,9}:\n",
    "        signals[signal_lookup[s['type']]].append(s)\n",
    "    \n",
    "    if s['timestamp'] - last_ts >= 400:\n",
    "        dl = pdr.get_travel_distance(smooth2(signals[0]))\n",
    "        seq_orientation = turning_detection(*signals)\n",
    "        \n",
    "        dh = np.mean(seq_orientation,0)[0] - last_h if last_h != -1 else np.mean(seq_orientation,0)[0]\n",
    "        last_h = np.mean(seq_orientation,0)[0]\n",
    "        heading += dh\n",
    "   \n",
    "        x += np.cos(heading) * dl\n",
    "        y += np.sin(heading) * dl\n",
    "    \n",
    "        locs.append((x,y))\n",
    "        \n",
    "        signals = [[],[],[],[],[]]\n",
    "        last_ts = s['timestamp']\n",
    "\n",
    "im = plt.imread(map_path)\n",
    "plt.imshow(im)\n",
    "plt.scatter(*zip(*locs), s=1)\n",
    "plt.show()"
   ]
  },
  {
   "cell_type": "code",
   "execution_count": 316,
   "metadata": {},
   "outputs": [],
   "source": [
    "seq_acc = [x for x in ins_data[idx] if x['type'] == 1]\n",
    "seq_mag = [x for x in ins_data[idx] if x['type'] == 2]\n",
    "seq_gyro = [x for x in ins_data[idx] if x['type'] == 4]\n",
    "seq_gravity = [x for x in ins_data[idx] if x['type'] == 9]"
   ]
  },
  {
   "cell_type": "code",
   "execution_count": 4,
   "metadata": {},
   "outputs": [
    {
     "ename": "NameError",
     "evalue": "name 'np' is not defined",
     "output_type": "error",
     "traceback": [
      "\u001b[0;31m---------------------------------------------------------------------------\u001b[0m",
      "\u001b[0;31mNameError\u001b[0m                                 Traceback (most recent call last)",
      "\u001b[0;32m<ipython-input-4-64da9e9d13ae>\u001b[0m in \u001b[0;36m<module>\u001b[0;34m\u001b[0m\n\u001b[0;32m----> 1\u001b[0;31m \u001b[0mnp\u001b[0m\u001b[0;34m.\u001b[0m\u001b[0mcos\u001b[0m\u001b[0;34m\u001b[0m\u001b[0;34m\u001b[0m\u001b[0m\n\u001b[0m",
      "\u001b[0;31mNameError\u001b[0m: name 'np' is not defined"
     ]
    }
   ],
   "source": [
    "\n",
    "\n",
    "np.cos"
   ]
  },
  {
   "cell_type": "code",
   "execution_count": 272,
   "metadata": {},
   "outputs": [],
   "source": [
    "idx = 1\n",
    "ttt = 65\n",
    "p = 1\n",
    "sigma_w = 5\n",
    "sigma_m = 1e4\n",
    "distanceRange = 120"
   ]
  },
  {
   "cell_type": "code",
   "execution_count": 277,
   "metadata": {},
   "outputs": [],
   "source": [
    "N=1000\n",
    "pf = ParticleFilter(N, area_locs, map_constraints)\n",
    "pdr = PDR()\n",
    "results_sifu = np.empty((0,4))\n",
    "results_euclidean = np.empty((0,4))\n",
    "results_cosine = np.empty((0,4))\n",
    "results_time = []\n",
    "timestamps1 = []\n",
    "lastLoc = data[idx][0]['loc']\n",
    "mag_seq = []\n",
    "\n",
    "\n",
    "for i in range(len(data[idx])):\n",
    "    d = data[idx][i]\n",
    "    loc = d['loc']\n",
    "    \n",
    "    if i < ttt and 'wifi' in d:\n",
    "        wifi_feature = preprocessor.preprocess(*d['wifi']).astype(np.float32)\n",
    "        wifi_sim = np.exp(-tf.norm(rps - wifi.predict(wifi_feature), axis=1) ** 2/(2*sigma_w*sigma_w))\n",
    "        pred2 = [0,0]\n",
    "#         for l, w in zip(rp_locs, wifi_sim):\n",
    "        ws = 0\n",
    "        for ti in np.argpartition(wifi_sim, -30)[-30:]:\n",
    "            l = rp_locs[ti]\n",
    "            w = wifi_sim[ti]\n",
    "            pred2[0] += l[0] * w\n",
    "            pred2[1] += l[1] * w\n",
    "            ws += w\n",
    "        pred2[0] /= ws\n",
    "        pred2[1] /= ws\n",
    "#         pred2 = rp_locs[wifi_sim.argmax()]\n",
    "        results_sifu = np.vstack([results_sifu, [pred2[0], pred2[1], loc[0], loc[1]]]) \n",
    "    \n",
    "        wifi_sim = np.exp(-tf.norm(np.array(rp_features) - wifi_feature, axis=1) ** 2/10)\n",
    "        pred2 = rp_locs[wifi_sim.argmax()]\n",
    "        results_euclidean = np.vstack([results_euclidean, [pred2[0], pred2[1], loc[0], loc[1]]])\n",
    "        \n",
    "        wifi_sim = ((np.dot(np.array(rp_features), wifi_feature.T)).ravel()/(np.linalg.norm(rp_features,axis=1)*np.linalg.norm(wifi_feature))).ravel()\n",
    "        pred2 = rp_locs[wifi_sim.argmax()]\n",
    "        results_cosine = np.vstack([results_cosine, [pred2[0], pred2[1], loc[0], loc[1]]]) \n",
    "\n"
   ]
  },
  {
   "cell_type": "code",
   "execution_count": 278,
   "metadata": {},
   "outputs": [
    {
     "data": {
      "text/plain": [
       "(4.379547367360435, 6.117701488389211, 5.565175218878785)"
      ]
     },
     "execution_count": 278,
     "metadata": {},
     "output_type": "execute_result"
    }
   ],
   "source": [
    "(np.mean([distance(xx[0:2], xx[2:4])*3/40 for xx in results_sifu[:]]),\n",
    " np.mean([distance(xx[0:2], xx[2:4])*3/40 for xx in results_euclidean[:]]),\n",
    " np.mean([distance(xx[0:2], xx[2:4])*3/40 for xx in results_cosine[:]]),\n",
    ")"
   ]
  },
  {
   "cell_type": "code",
   "execution_count": null,
   "metadata": {},
   "outputs": [],
   "source": []
  }
 ],
 "metadata": {
  "kernelspec": {
   "display_name": "Python 3",
   "language": "python",
   "name": "python3"
  },
  "language_info": {
   "codemirror_mode": {
    "name": "ipython",
    "version": 3
   },
   "file_extension": ".py",
   "mimetype": "text/x-python",
   "name": "python",
   "nbconvert_exporter": "python",
   "pygments_lexer": "ipython3",
   "version": "3.8.5"
  }
 },
 "nbformat": 4,
 "nbformat_minor": 4
}
